{
 "cells": [
  {
   "cell_type": "code",
   "execution_count": 1,
   "metadata": {},
   "outputs": [],
   "source": [
    "import time\n",
    "import torch\n",
    "import torch.nn as nn\n",
    "import torch.optim as optim\n",
    "from torch.utils.tensorboard import SummaryWriter\n",
    "from torch.utils.data import TensorDataset, DataLoader\n",
    "import argparse\n",
    "import os\n",
    "from tqdm import tqdm\n",
    "\n",
    "# Device configuration\n",
    "device = torch.device(\"cuda\" if torch.cuda.is_available() else \"cpu\")"
   ]
  },
  {
   "cell_type": "code",
   "execution_count": 2,
   "metadata": {},
   "outputs": [],
   "source": [
    "def generate(name):\n",
    "    num_sessions = 0\n",
    "    inputs = []\n",
    "    outputs = []\n",
    "    with open(name, 'r') as f:\n",
    "        for line in tqdm(f,\"loading data\"):\n",
    "            num_sessions += 1\n",
    "            seq = [0]+list(map(lambda n: n - 1, map(int, line.strip().split())))+[30]\n",
    "            line = tuple(seq)\n",
    "            \n",
    "            for i in range(len(line) - window_size):\n",
    "                inputs.append(line[i:i + window_size])\n",
    "                outputs.append(line[i + window_size])\n",
    "    print('Number of sessions({}): {}'.format(name, num_sessions))\n",
    "    print('Number of seqs({}): {}'.format(name, len(inputs)))\n",
    "    dataset = TensorDataset(torch.tensor(inputs, dtype=torch.float), torch.tensor(outputs))\n",
    "    return dataset\n",
    "\n",
    "\n",
    "class Model(nn.Module):\n",
    "    def __init__(self, input_size, hidden_size, num_layers, num_keys):\n",
    "        super(Model, self).__init__()\n",
    "        self.hidden_size = hidden_size\n",
    "        self.num_layers = num_layers\n",
    "        self.lstm = nn.LSTM(input_size, hidden_size, num_layers, batch_first=True)\n",
    "        self.fc = nn.Linear(hidden_size, num_keys)\n",
    "\n",
    "    def forward(self, x):\n",
    "        h0 = torch.zeros(self.num_layers, x.size(0), self.hidden_size).to(device)\n",
    "        c0 = torch.zeros(self.num_layers, x.size(0), self.hidden_size).to(device)\n",
    "        out, _ = self.lstm(x, (h0, c0))\n",
    "        out = self.fc(out[:, :, :])\n",
    "        return out"
   ]
  },
  {
   "cell_type": "code",
   "execution_count": 3,
   "metadata": {},
   "outputs": [],
   "source": [
    "# Hyperparameters\n",
    "num_classes = 31\n",
    "num_epochs = 300\n",
    "batch_size = 2048\n",
    "input_size = 1\n",
    "model_dir = 'model'\n",
    "log = 'bd_total_loss_batch_size={}_epoch={}'.format(str(batch_size), str(num_epochs))\n",
    "num_layers = 2\n",
    "hidden_size = 64\n",
    "window_size = 10\n",
    "file_dir = 'data/'"
   ]
  },
  {
   "cell_type": "code",
   "execution_count": 4,
   "metadata": {},
   "outputs": [
    {
     "data": {
      "text/plain": [
       "22"
      ]
     },
     "execution_count": 4,
     "metadata": {},
     "output_type": "execute_result"
    }
   ],
   "source": [
    "import gc\n",
    "gc.collect()"
   ]
  },
  {
   "cell_type": "code",
   "execution_count": 5,
   "metadata": {},
   "outputs": [
    {
     "name": "stderr",
     "output_type": "stream",
     "text": [
      "loading data: 4855it [00:00, 19576.04it/s]\n"
     ]
    },
    {
     "name": "stdout",
     "output_type": "stream",
     "text": [
      "Number of sessions(data/hdfs_train): 4855\n",
      "Number of seqs(data/hdfs_train): 56285\n"
     ]
    }
   ],
   "source": [
    "model = Model(input_size, hidden_size, num_layers, num_classes).to(device)\n",
    "seq_dataset = generate(file_dir+'hdfs_train')\n",
    "dataloader = DataLoader(seq_dataset, batch_size=batch_size, shuffle=True, pin_memory=True)"
   ]
  },
  {
   "cell_type": "code",
   "execution_count": 6,
   "metadata": {},
   "outputs": [],
   "source": [
    "writer = SummaryWriter(log_dir='log/' + log)\n",
    "# Loss and optimizer\n",
    "criterion = nn.CrossEntropyLoss()\n",
    "optimizer = optim.Adam(model.parameters())\n",
    "# Train the model\n",
    "total_step = len(dataloader)\n",
    "current_epoch = 0\n"
   ]
  },
  {
   "cell_type": "code",
   "execution_count": 7,
   "metadata": {},
   "outputs": [
    {
     "data": {
      "text/plain": [
       "<All keys matched successfully>"
      ]
     },
     "execution_count": 7,
     "metadata": {},
     "output_type": "execute_result"
    }
   ],
   "source": [
    "model.load_state_dict(torch.load(model_dir + '/' + log + '.pt'))"
   ]
  },
  {
   "cell_type": "code",
   "execution_count": 8,
   "metadata": {},
   "outputs": [],
   "source": [
    "num_epochs = 300"
   ]
  },
  {
   "cell_type": "code",
   "execution_count": 9,
   "metadata": {},
   "outputs": [
    {
     "name": "stdout",
     "output_type": "stream",
     "text": [
      "Epoch [1/300], train_loss: 0.4647\n",
      "Epoch [2/300], train_loss: 0.4429\n",
      "Epoch [3/300], train_loss: 0.4407\n",
      "Epoch [4/300], train_loss: 0.4398\n",
      "Epoch [5/300], train_loss: 0.4395\n",
      "Epoch [6/300], train_loss: 0.4388\n",
      "Epoch [7/300], train_loss: 0.4390\n",
      "Epoch [8/300], train_loss: 0.4385\n",
      "Epoch [9/300], train_loss: 0.4377\n",
      "Epoch [10/300], train_loss: 0.4377\n",
      "Epoch [11/300], train_loss: 0.4372\n",
      "Epoch [12/300], train_loss: 0.4368\n",
      "Epoch [13/300], train_loss: 0.4359\n",
      "Epoch [14/300], train_loss: 0.4353\n",
      "Epoch [15/300], train_loss: 0.4354\n",
      "Epoch [16/300], train_loss: 0.4351\n",
      "Epoch [17/300], train_loss: 0.4342\n",
      "Epoch [18/300], train_loss: 0.4336\n",
      "Epoch [19/300], train_loss: 0.4335\n",
      "Epoch [20/300], train_loss: 0.4330\n",
      "Epoch [21/300], train_loss: 0.4331\n",
      "Epoch [22/300], train_loss: 0.4324\n",
      "Epoch [23/300], train_loss: 0.4323\n",
      "Epoch [24/300], train_loss: 0.4318\n",
      "Epoch [25/300], train_loss: 0.4316\n",
      "Epoch [26/300], train_loss: 0.4319\n",
      "Epoch [27/300], train_loss: 0.4313\n",
      "Epoch [28/300], train_loss: 0.4306\n",
      "Epoch [29/300], train_loss: 0.4301\n",
      "Epoch [30/300], train_loss: 0.4299\n",
      "Epoch [31/300], train_loss: 0.4296\n",
      "Epoch [32/300], train_loss: 0.4294\n",
      "Epoch [33/300], train_loss: 0.4286\n",
      "Epoch [34/300], train_loss: 0.4292\n",
      "Epoch [35/300], train_loss: 0.4290\n",
      "Epoch [36/300], train_loss: 0.4281\n",
      "Epoch [37/300], train_loss: 0.4287\n",
      "Epoch [38/300], train_loss: 0.4280\n",
      "Epoch [39/300], train_loss: 0.4280\n",
      "Epoch [40/300], train_loss: 0.4275\n",
      "Epoch [41/300], train_loss: 0.4275\n",
      "Epoch [42/300], train_loss: 0.4273\n",
      "Epoch [43/300], train_loss: 0.4271\n",
      "Epoch [44/300], train_loss: 0.4267\n",
      "Epoch [45/300], train_loss: 0.4264\n",
      "Epoch [46/300], train_loss: 0.4265\n",
      "Epoch [47/300], train_loss: 0.4261\n",
      "Epoch [48/300], train_loss: 0.4258\n",
      "Epoch [49/300], train_loss: 0.4260\n",
      "Epoch [50/300], train_loss: 0.4257\n",
      "Epoch [51/300], train_loss: 0.4252\n",
      "Epoch [52/300], train_loss: 0.4253\n",
      "Epoch [53/300], train_loss: 0.4252\n",
      "Epoch [54/300], train_loss: 0.4249\n",
      "Epoch [55/300], train_loss: 0.4245\n",
      "Epoch [56/300], train_loss: 0.4243\n",
      "Epoch [57/300], train_loss: 0.4244\n",
      "Epoch [58/300], train_loss: 0.4246\n",
      "Epoch [59/300], train_loss: 0.4240\n",
      "Epoch [60/300], train_loss: 0.4237\n",
      "Epoch [61/300], train_loss: 0.4234\n",
      "Epoch [62/300], train_loss: 0.4239\n",
      "Epoch [63/300], train_loss: 0.4232\n",
      "Epoch [64/300], train_loss: 0.4233\n",
      "Epoch [65/300], train_loss: 0.4235\n",
      "Epoch [66/300], train_loss: 0.4227\n",
      "Epoch [67/300], train_loss: 0.4227\n",
      "Epoch [68/300], train_loss: 0.4226\n",
      "Epoch [69/300], train_loss: 0.4228\n",
      "Epoch [70/300], train_loss: 0.4226\n",
      "Epoch [71/300], train_loss: 0.4223\n",
      "Epoch [72/300], train_loss: 0.4221\n",
      "Epoch [73/300], train_loss: 0.4222\n",
      "Epoch [74/300], train_loss: 0.4221\n",
      "Epoch [75/300], train_loss: 0.4214\n",
      "Epoch [76/300], train_loss: 0.4214\n",
      "Epoch [77/300], train_loss: 0.4210\n",
      "Epoch [78/300], train_loss: 0.4214\n",
      "Epoch [79/300], train_loss: 0.4211\n",
      "Epoch [80/300], train_loss: 0.4212\n",
      "Epoch [81/300], train_loss: 0.4211\n",
      "Epoch [82/300], train_loss: 0.4217\n",
      "Epoch [83/300], train_loss: 0.4210\n",
      "Epoch [84/300], train_loss: 0.4209\n",
      "Epoch [85/300], train_loss: 0.4206\n",
      "Epoch [86/300], train_loss: 0.4206\n",
      "Epoch [87/300], train_loss: 0.4209\n",
      "Epoch [88/300], train_loss: 0.4207\n",
      "Epoch [89/300], train_loss: 0.4205\n",
      "Epoch [90/300], train_loss: 0.4206\n",
      "Epoch [91/300], train_loss: 0.4202\n",
      "Epoch [92/300], train_loss: 0.4198\n",
      "Epoch [93/300], train_loss: 0.4201\n",
      "Epoch [94/300], train_loss: 0.4197\n",
      "Epoch [95/300], train_loss: 0.4194\n",
      "Epoch [96/300], train_loss: 0.4199\n",
      "Epoch [97/300], train_loss: 0.4194\n",
      "Epoch [98/300], train_loss: 0.4195\n",
      "Epoch [99/300], train_loss: 0.4192\n",
      "Epoch [100/300], train_loss: 0.4190\n",
      "Epoch [101/300], train_loss: 0.4189\n",
      "Epoch [102/300], train_loss: 0.4192\n",
      "Epoch [103/300], train_loss: 0.4187\n",
      "Epoch [104/300], train_loss: 0.4186\n",
      "Epoch [105/300], train_loss: 0.4189\n",
      "Epoch [106/300], train_loss: 0.4189\n",
      "Epoch [107/300], train_loss: 0.4185\n",
      "Epoch [108/300], train_loss: 0.4184\n",
      "Epoch [109/300], train_loss: 0.4186\n",
      "Epoch [110/300], train_loss: 0.4188\n",
      "Epoch [111/300], train_loss: 0.4183\n",
      "Epoch [112/300], train_loss: 0.4182\n",
      "Epoch [113/300], train_loss: 0.4179\n",
      "Epoch [114/300], train_loss: 0.4180\n",
      "Epoch [115/300], train_loss: 0.4182\n",
      "Epoch [116/300], train_loss: 0.4180\n",
      "Epoch [117/300], train_loss: 0.4186\n",
      "Epoch [118/300], train_loss: 0.4179\n",
      "Epoch [119/300], train_loss: 0.4178\n",
      "Epoch [120/300], train_loss: 0.4180\n",
      "Epoch [121/300], train_loss: 0.4177\n",
      "Epoch [122/300], train_loss: 0.4172\n",
      "Epoch [123/300], train_loss: 0.4172\n",
      "Epoch [124/300], train_loss: 0.4175\n",
      "Epoch [125/300], train_loss: 0.4171\n",
      "Epoch [126/300], train_loss: 0.4172\n",
      "Epoch [127/300], train_loss: 0.4174\n",
      "Epoch [128/300], train_loss: 0.4167\n",
      "Epoch [129/300], train_loss: 0.4169\n",
      "Epoch [130/300], train_loss: 0.4170\n",
      "Epoch [131/300], train_loss: 0.4168\n",
      "Epoch [132/300], train_loss: 0.4168\n",
      "Epoch [133/300], train_loss: 0.4168\n",
      "Epoch [134/300], train_loss: 0.4173\n",
      "Epoch [135/300], train_loss: 0.4167\n",
      "Epoch [136/300], train_loss: 0.4164\n",
      "Epoch [137/300], train_loss: 0.4161\n",
      "Epoch [138/300], train_loss: 0.4174\n",
      "Epoch [139/300], train_loss: 0.4167\n",
      "Epoch [140/300], train_loss: 0.4167\n",
      "Epoch [141/300], train_loss: 0.4163\n",
      "Epoch [142/300], train_loss: 0.4162\n",
      "Epoch [143/300], train_loss: 0.4164\n",
      "Epoch [144/300], train_loss: 0.4165\n",
      "Epoch [145/300], train_loss: 0.4169\n",
      "Epoch [146/300], train_loss: 0.4166\n",
      "Epoch [147/300], train_loss: 0.4158\n",
      "Epoch [148/300], train_loss: 0.4160\n",
      "Epoch [149/300], train_loss: 0.4158\n",
      "Epoch [150/300], train_loss: 0.4159\n",
      "Epoch [151/300], train_loss: 0.4157\n",
      "Epoch [152/300], train_loss: 0.4157\n",
      "Epoch [153/300], train_loss: 0.4155\n",
      "Epoch [154/300], train_loss: 0.4156\n",
      "Epoch [155/300], train_loss: 0.4155\n",
      "Epoch [156/300], train_loss: 0.4160\n",
      "Epoch [157/300], train_loss: 0.4154\n",
      "Epoch [158/300], train_loss: 0.4155\n",
      "Epoch [159/300], train_loss: 0.4154\n",
      "Epoch [160/300], train_loss: 0.4154\n",
      "Epoch [161/300], train_loss: 0.4154\n",
      "Epoch [162/300], train_loss: 0.4153\n",
      "Epoch [163/300], train_loss: 0.4156\n",
      "Epoch [164/300], train_loss: 0.4151\n",
      "Epoch [165/300], train_loss: 0.4151\n",
      "Epoch [166/300], train_loss: 0.4149\n",
      "Epoch [167/300], train_loss: 0.4152\n",
      "Epoch [168/300], train_loss: 0.4149\n",
      "Epoch [169/300], train_loss: 0.4151\n",
      "Epoch [170/300], train_loss: 0.4148\n",
      "Epoch [171/300], train_loss: 0.4147\n",
      "Epoch [172/300], train_loss: 0.4146\n",
      "Epoch [173/300], train_loss: 0.4144\n",
      "Epoch [174/300], train_loss: 0.4148\n",
      "Epoch [175/300], train_loss: 0.4147\n",
      "Epoch [176/300], train_loss: 0.4148\n",
      "Epoch [177/300], train_loss: 0.4146\n",
      "Epoch [178/300], train_loss: 0.4150\n",
      "Epoch [179/300], train_loss: 0.4145\n",
      "Epoch [180/300], train_loss: 0.4149\n",
      "Epoch [181/300], train_loss: 0.4148\n",
      "Epoch [182/300], train_loss: 0.4147\n",
      "Epoch [183/300], train_loss: 0.4141\n",
      "Epoch [184/300], train_loss: 0.4148\n",
      "Epoch [185/300], train_loss: 0.4145\n",
      "Epoch [186/300], train_loss: 0.4143\n",
      "Epoch [187/300], train_loss: 0.4143\n",
      "Epoch [188/300], train_loss: 0.4144\n",
      "Epoch [189/300], train_loss: 0.4142\n",
      "Epoch [190/300], train_loss: 0.4144\n",
      "Epoch [191/300], train_loss: 0.4146\n",
      "Epoch [192/300], train_loss: 0.4139\n",
      "Epoch [193/300], train_loss: 0.4144\n",
      "Epoch [194/300], train_loss: 0.4141\n",
      "Epoch [195/300], train_loss: 0.4139\n",
      "Epoch [196/300], train_loss: 0.4142\n",
      "Epoch [197/300], train_loss: 0.4143\n",
      "Epoch [198/300], train_loss: 0.4142\n",
      "Epoch [199/300], train_loss: 0.4139\n",
      "Epoch [200/300], train_loss: 0.4138\n",
      "Epoch [201/300], train_loss: 0.4142\n",
      "Epoch [202/300], train_loss: 0.4140\n",
      "Epoch [203/300], train_loss: 0.4135\n",
      "Epoch [204/300], train_loss: 0.4137\n",
      "Epoch [205/300], train_loss: 0.4139\n",
      "Epoch [206/300], train_loss: 0.4138\n",
      "Epoch [207/300], train_loss: 0.4136\n",
      "Epoch [208/300], train_loss: 0.4135\n",
      "Epoch [209/300], train_loss: 0.4136\n",
      "Epoch [210/300], train_loss: 0.4136\n",
      "Epoch [211/300], train_loss: 0.4134\n",
      "Epoch [212/300], train_loss: 0.4134\n",
      "Epoch [213/300], train_loss: 0.4135\n",
      "Epoch [214/300], train_loss: 0.4135\n",
      "Epoch [215/300], train_loss: 0.4134\n",
      "Epoch [216/300], train_loss: 0.4135\n",
      "Epoch [217/300], train_loss: 0.4135\n",
      "Epoch [218/300], train_loss: 0.4132\n",
      "Epoch [219/300], train_loss: 0.4134\n",
      "Epoch [220/300], train_loss: 0.4134\n",
      "Epoch [221/300], train_loss: 0.4132\n",
      "Epoch [222/300], train_loss: 0.4135\n",
      "Epoch [223/300], train_loss: 0.4135\n",
      "Epoch [224/300], train_loss: 0.4128\n",
      "Epoch [225/300], train_loss: 0.4131\n",
      "Epoch [226/300], train_loss: 0.4131\n",
      "Epoch [227/300], train_loss: 0.4129\n",
      "Epoch [228/300], train_loss: 0.4127\n",
      "Epoch [229/300], train_loss: 0.4134\n",
      "Epoch [230/300], train_loss: 0.4131\n",
      "Epoch [231/300], train_loss: 0.4130\n"
     ]
    },
    {
     "name": "stdout",
     "output_type": "stream",
     "text": [
      "Epoch [232/300], train_loss: 0.4128\n",
      "Epoch [233/300], train_loss: 0.4128\n",
      "Epoch [234/300], train_loss: 0.4127\n",
      "Epoch [235/300], train_loss: 0.4129\n",
      "Epoch [236/300], train_loss: 0.4130\n",
      "Epoch [237/300], train_loss: 0.4127\n",
      "Epoch [238/300], train_loss: 0.4128\n",
      "Epoch [239/300], train_loss: 0.4128\n",
      "Epoch [240/300], train_loss: 0.4129\n",
      "Epoch [241/300], train_loss: 0.4132\n",
      "Epoch [242/300], train_loss: 0.4123\n",
      "Epoch [243/300], train_loss: 0.4126\n",
      "Epoch [244/300], train_loss: 0.4126\n",
      "Epoch [245/300], train_loss: 0.4127\n",
      "Epoch [246/300], train_loss: 0.4128\n",
      "Epoch [247/300], train_loss: 0.4123\n",
      "Epoch [248/300], train_loss: 0.4128\n",
      "Epoch [249/300], train_loss: 0.4125\n",
      "Epoch [250/300], train_loss: 0.4122\n",
      "Epoch [251/300], train_loss: 0.4122\n",
      "Epoch [252/300], train_loss: 0.4126\n",
      "Epoch [253/300], train_loss: 0.4123\n",
      "Epoch [254/300], train_loss: 0.4123\n",
      "Epoch [255/300], train_loss: 0.4123\n",
      "Epoch [256/300], train_loss: 0.4126\n",
      "Epoch [257/300], train_loss: 0.4126\n",
      "Epoch [258/300], train_loss: 0.4126\n",
      "Epoch [259/300], train_loss: 0.4123\n",
      "Epoch [260/300], train_loss: 0.4122\n",
      "Epoch [261/300], train_loss: 0.4122\n",
      "Epoch [262/300], train_loss: 0.4125\n",
      "Epoch [263/300], train_loss: 0.4123\n",
      "Epoch [264/300], train_loss: 0.4120\n",
      "Epoch [265/300], train_loss: 0.4122\n",
      "Epoch [266/300], train_loss: 0.4122\n",
      "Epoch [267/300], train_loss: 0.4119\n",
      "Epoch [268/300], train_loss: 0.4121\n",
      "Epoch [269/300], train_loss: 0.4119\n",
      "Epoch [270/300], train_loss: 0.4118\n",
      "Epoch [271/300], train_loss: 0.4122\n",
      "Epoch [272/300], train_loss: 0.4123\n",
      "Epoch [273/300], train_loss: 0.4124\n",
      "Epoch [274/300], train_loss: 0.4123\n",
      "Epoch [275/300], train_loss: 0.4117\n",
      "Epoch [276/300], train_loss: 0.4120\n",
      "Epoch [277/300], train_loss: 0.4116\n",
      "Epoch [278/300], train_loss: 0.4117\n",
      "Epoch [279/300], train_loss: 0.4119\n",
      "Epoch [280/300], train_loss: 0.4117\n",
      "Epoch [281/300], train_loss: 0.4118\n",
      "Epoch [282/300], train_loss: 0.4118\n",
      "Epoch [283/300], train_loss: 0.4121\n",
      "Epoch [284/300], train_loss: 0.4116\n",
      "Epoch [285/300], train_loss: 0.4119\n",
      "Epoch [286/300], train_loss: 0.4118\n",
      "Epoch [287/300], train_loss: 0.4118\n",
      "Epoch [288/300], train_loss: 0.4117\n",
      "Epoch [289/300], train_loss: 0.4117\n",
      "Epoch [290/300], train_loss: 0.4118\n",
      "Epoch [291/300], train_loss: 0.4116\n",
      "Epoch [292/300], train_loss: 0.4117\n",
      "Epoch [293/300], train_loss: 0.4114\n",
      "Epoch [294/300], train_loss: 0.4114\n",
      "Epoch [295/300], train_loss: 0.4119\n",
      "Epoch [296/300], train_loss: 0.4115\n",
      "Epoch [297/300], train_loss: 0.4114\n",
      "Epoch [298/300], train_loss: 0.4116\n",
      "Epoch [299/300], train_loss: 0.4113\n",
      "Epoch [300/300], train_loss: 0.4114\n",
      "elapsed_time: 2352.915s\n"
     ]
    }
   ],
   "source": [
    "start_time = time.time()\n",
    "\n",
    "for epoch in range(current_epoch,current_epoch+num_epochs):  # Loop over the dataset multiple times\n",
    "    train_loss = 0\n",
    "    for step, (seq, label) in enumerate(dataloader):\n",
    "        # Forward pass\n",
    "        seq = seq.clone().detach().view(-1, window_size, input_size).to(device)\n",
    "        label1= seq[:,1:,:].cpu().long()\n",
    "        label2 = label.view(-1,1,1)\n",
    "        label = torch.cat([label1,label2],1).view(-1,window_size)\n",
    "        label = label.reshape(label.size(0)*label.size(1))\n",
    "        output = model(seq)\n",
    "        output = output.reshape(output.size(0)*output.size(1),-1)\n",
    "#         label = seq[]\n",
    "        loss = criterion(output, label.to(device))\n",
    "\n",
    "        # Backward and optimize\n",
    "        optimizer.zero_grad()\n",
    "        loss.backward()\n",
    "        train_loss += loss.item()\n",
    "        optimizer.step()\n",
    "        writer.add_graph(model, seq)\n",
    "    print('Epoch [{}/{}], train_loss: {:.4f}'.format(epoch + 1, num_epochs, train_loss / total_step))\n",
    "    writer.add_scalar('train_loss', train_loss / total_step, epoch + 1)\n",
    "elapsed_time = time.time() - start_time\n",
    "print('elapsed_time: {:.3f}s'.format(elapsed_time))"
   ]
  },
  {
   "cell_type": "code",
   "execution_count": 14,
   "metadata": {},
   "outputs": [
    {
     "name": "stdout",
     "output_type": "stream",
     "text": [
      "tensor([[ 8, 25, 10, 21,  4],\n",
      "        [ 8, 25, 10, 21,  4],\n",
      "        [ 4,  8, 10, 25, 21],\n",
      "        [21,  4, 25,  8, 10],\n",
      "        [ 3,  4, 25, 10,  8],\n",
      "        [ 2,  4,  8, 25, 10],\n",
      "        [24,  4, 25, 10,  8],\n",
      "        [15,  4,  8, 25, 10],\n",
      "        [24,  4, 10, 25,  8],\n",
      "        [10,  5, 15,  1, 25]], device='cuda:0')\n",
      "tensor([ 4,  4, 21, 10,  8, 10,  8, 10,  8, 25])\n",
      "tensor([[ 4.],\n",
      "        [ 4.],\n",
      "        [ 4.],\n",
      "        [21.],\n",
      "        [10.],\n",
      "        [ 8.],\n",
      "        [10.],\n",
      "        [ 8.],\n",
      "        [10.],\n",
      "        [ 8.]], device='cuda:0')\n"
     ]
    }
   ],
   "source": [
    "print(torch.argsort(output, 1)[:, -5:][70:80])\n",
    "print(label[70:80])\n",
    "print(seq[7,:,:])"
   ]
  },
  {
   "cell_type": "code",
   "execution_count": 17,
   "metadata": {},
   "outputs": [
    {
     "data": {
      "text/plain": [
       "tensor([ 4, 21,  4, 10,  8, 10,  8, 10,  8, 25, 21,  4,  4,  4, 25, 25, 25, 10,\n",
       "         8, 10, 10,  8, 10,  8, 25, 25, 25, 22, 22, 22,  8, 25, 25, 25,  1, 22,\n",
       "        22, 22, 20, 20, 10,  8, 10,  8, 25, 25, 25,  1,  2,  2, 25, 25, 10,  8,\n",
       "        10,  8, 10,  8, 22, 22, 10,  8, 25, 25, 25, 22, 22, 22, 20, 20,  2,  2,\n",
       "         3, 22, 22, 22, 20, 20, 20, 30,  8, 25, 25, 25, 22, 22, 22, 20, 20, 20,\n",
       "        21,  4,  4, 10,  8, 10,  8, 10,  8, 25])"
      ]
     },
     "execution_count": 17,
     "metadata": {},
     "output_type": "execute_result"
    }
   ],
   "source": [
    "label[:100]"
   ]
  },
  {
   "cell_type": "code",
   "execution_count": 15,
   "metadata": {},
   "outputs": [],
   "source": [
    "correct = 0\n",
    "predicted = torch.argsort(output, 1)[:, -3:].cpu()\n",
    "for i in range(len(label)):\n",
    "#     print(label[i],predicted[i])\n",
    "    if label[i] in predicted[i]:\n",
    "#         print(label[i],predicted[i])\n",
    "        correct+=1\n",
    "    "
   ]
  },
  {
   "cell_type": "code",
   "execution_count": 16,
   "metadata": {},
   "outputs": [
    {
     "data": {
      "text/plain": [
       "0.9811931243680485"
      ]
     },
     "execution_count": 16,
     "metadata": {},
     "output_type": "execute_result"
    }
   ],
   "source": [
    "correct/len(label)"
   ]
  },
  {
   "cell_type": "code",
   "execution_count": 39,
   "metadata": {},
   "outputs": [],
   "source": [
    "label1= seq[:,1:,:].cpu().long()\n",
    "label2 = label.view(-1,1,1)"
   ]
  },
  {
   "cell_type": "code",
   "execution_count": 11,
   "metadata": {},
   "outputs": [
    {
     "name": "stdout",
     "output_type": "stream",
     "text": [
      "Finished Training\n"
     ]
    }
   ],
   "source": [
    "if not os.path.isdir(model_dir):\n",
    "    os.makedirs(model_dir)\n",
    "torch.save(model.state_dict(), model_dir + '/' + log + '.pt')\n",
    "writer.close()\n",
    "print('Finished Training')"
   ]
  },
  {
   "cell_type": "code",
   "execution_count": 4,
   "metadata": {},
   "outputs": [],
   "source": [
    "def generate_test_data(name):\n",
    "    hdfs = set()\n",
    "    # hdfs = []\n",
    "    with open('data/small_dataset/' + name, 'r') as f:\n",
    "        for ln in f.readlines():\n",
    "            ln = list(map(lambda n: n - 1, map(int, ln.strip().split())))\n",
    "            ln = ln + [-1] * (window_size + 1 - len(ln))\n",
    "            hdfs.add(tuple(ln))\n",
    "            # hdfs.append(tuple(ln))\n",
    "    print('Number of sessions({}): {}'.format(name, len(hdfs)))\n",
    "    return hdfs"
   ]
  },
  {
   "cell_type": "code",
   "execution_count": 8,
   "metadata": {},
   "outputs": [
    {
     "data": {
      "text/plain": [
       "Model(\n",
       "  (lstm): LSTM(1, 64, num_layers=2, batch_first=True)\n",
       "  (fc): Linear(in_features=64, out_features=28, bias=True)\n",
       ")"
      ]
     },
     "execution_count": 8,
     "metadata": {},
     "output_type": "execute_result"
    }
   ],
   "source": [
    "model = Model(input_size, hidden_size, num_layers, num_classes)\n",
    "model.load_state_dict(torch.load(model_dir + '/' + log + '.pt'))\n",
    "model.to(device)"
   ]
  },
  {
   "cell_type": "code",
   "execution_count": 9,
   "metadata": {},
   "outputs": [
    {
     "name": "stdout",
     "output_type": "stream",
     "text": [
      "Number of sessions(hdfs_test_normal): 296\n"
     ]
    }
   ],
   "source": [
    "model.eval()\n",
    "# print('model_path: {}'.format(model_path))\n",
    "test_normal_loader = generate_test_data('hdfs_test_normal')\n",
    "# test_abnormal_loader = generate_test_data('hdfs_test_abnormal')"
   ]
  },
  {
   "cell_type": "code",
   "execution_count": 11,
   "metadata": {},
   "outputs": [],
   "source": [
    "pattern = torch.FloatTensor(list(test_normal_loader)[0])\n",
    "pattern = pattern.view(1,-1)"
   ]
  },
  {
   "cell_type": "code",
   "execution_count": 26,
   "metadata": {},
   "outputs": [
    {
     "name": "stdout",
     "output_type": "stream",
     "text": [
      "window size:1\n",
      "seq: [[21.]] expected num: 4.0\n",
      "prediction:[[17  4 10 24 25]]\n",
      "correct:4\n",
      "\n",
      "window size:2\n",
      "seq: [[21.  4.]] expected num: 4.0\n",
      "prediction:[[10 25  5  8  4]]\n",
      "correct:1\n",
      "\n",
      "window size:3\n",
      "seq: [[21.  4.  4.]] expected num: 4.0\n",
      "prediction:[[20 10  5  3 25]]\n",
      "wrong\n",
      "\n",
      "window size:4\n",
      "seq: [[21.  4.  4.  4.]] expected num: 25.0\n",
      "prediction:[[10 20  2  3 25]]\n",
      "correct:1\n",
      "\n",
      "window size:5\n",
      "seq: [[21.  4.  4.  4. 25.]] expected num: 10.0\n",
      "prediction:[[24  1 20 25 22]]\n",
      "wrong\n",
      "\n",
      "window size:6\n",
      "seq: [[21.  4.  4.  4. 25. 10.]] expected num: 8.0\n",
      "prediction:[[ 3 20 24  4  8]]\n",
      "correct:1\n",
      "\n",
      "window size:7\n",
      "seq: [[21.  4.  4.  4. 25. 10.  8.]] expected num: 10.0\n",
      "prediction:[[ 3 20 25 10  8]]\n",
      "correct:2\n",
      "\n",
      "window size:8\n",
      "seq: [[21.  4.  4.  4. 25. 10.  8. 10.]] expected num: 8.0\n",
      "prediction:[[ 3 20 10 25  8]]\n",
      "correct:1\n",
      "\n",
      "window size:9\n",
      "seq: [[21.  4.  4.  4. 25. 10.  8. 10.  8.]] expected num: 25.0\n",
      "prediction:[[ 1  3  8 10 25]]\n",
      "correct:1\n",
      "\n",
      "window size:10\n",
      "seq: [[21.  4.  4.  4. 25. 10.  8. 10.  8. 25.]] expected num: 25.0\n",
      "prediction:[[22  1  8 10 25]]\n",
      "correct:1\n",
      "\n"
     ]
    }
   ],
   "source": [
    "for window_size in range(1,11):\n",
    "    test_data = pattern[:,:window_size]\n",
    "    start = test_data.clone().detach().view(-1, window_size, input_size).to(device)\n",
    "    output = model(start).cpu()\n",
    "    predicted = torch.argsort(output, 1)[:,-5:]\n",
    "    print('window size:'+ str(window_size))\n",
    "    print('seq: '+str(test_data.numpy()),end=' ')\n",
    "    print('expected num: '+str(pattern.numpy()[0][window_size]))\n",
    "    print('prediction:' + str(predicted.numpy()))\n",
    "    if pattern[0][window_size] in predicted[0]:\n",
    "        print('correct:'+str(5-list(predicted[0].numpy()).index(pattern[0][window_size])))\n",
    "    else:\n",
    "        print('wrong')\n",
    "    print()"
   ]
  },
  {
   "cell_type": "code",
   "execution_count": 22,
   "metadata": {},
   "outputs": [
    {
     "name": "stdout",
     "output_type": "stream",
     "text": [
      "elapsed_time: 4.225s\n",
      "false positive (FP): 4, false negative (FN): 58, Precision: 88.571%, Recall: 34.831%, F1-measure: 50.000%\n",
      "Finished Predicting\n"
     ]
    }
   ],
   "source": [
    "TP = 0\n",
    "FP = 0\n",
    "num_candidates = 5\n",
    "# Test the model\n",
    "start_time = time.time()\n",
    "with torch.no_grad():\n",
    "    for line in test_normal_loader:\n",
    "        for i in range(len(line) - window_size):\n",
    "            seq = line[i:i + window_size]\n",
    "            label = line[i + window_size]\n",
    "            seq = torch.tensor(seq, dtype=torch.float).view(-1, window_size, input_size).to(device)\n",
    "            label = torch.tensor(label).view(-1).to(device)\n",
    "            output = model(seq)\n",
    "            predicted = torch.argsort(output, 1)[0][-num_candidates:]\n",
    "            if label not in predicted:\n",
    "                FP += 1\n",
    "                break\n",
    "with torch.no_grad():\n",
    "    for line in test_abnormal_loader:\n",
    "        for i in range(len(line) - window_size):\n",
    "            seq = line[i:i + window_size]\n",
    "            label = line[i + window_size]\n",
    "            seq = torch.tensor(seq, dtype=torch.float).view(-1, window_size, input_size).to(device)\n",
    "            label = torch.tensor(label).view(-1).to(device)\n",
    "            output = model(seq)\n",
    "            predicted = torch.argsort(output, 1)[0][-num_candidates:]\n",
    "            if label not in predicted:\n",
    "                TP += 1\n",
    "                break\n",
    "elapsed_time = time.time() - start_time\n",
    "print('elapsed_time: {:.3f}s'.format(elapsed_time))\n",
    "# Compute precision, recall and F1-measure\n",
    "FN = len(test_abnormal_loader) - TP\n",
    "P = 100 * TP / (TP + FP)\n",
    "R = 100 * TP / (TP + FN)\n",
    "F1 = 2 * P * R / (P + R)\n",
    "print('false positive (FP): {}, false negative (FN): {}, Precision: {:.3f}%, Recall: {:.3f}%, F1-measure: {:.3f}%'.format(FP, FN, P, R, F1))\n",
    "print('Finished Predicting')"
   ]
  },
  {
   "cell_type": "code",
   "execution_count": null,
   "metadata": {},
   "outputs": [],
   "source": []
  }
 ],
 "metadata": {
  "kernelspec": {
   "display_name": "Python 3.6.7 64-bit ('cuda_pytorch': conda)",
   "language": "python",
   "name": "python36764bitcudapytorchconda3e33319a1fef4dc990a9d2f171216946"
  },
  "language_info": {
   "codemirror_mode": {
    "name": "ipython",
    "version": 3
   },
   "file_extension": ".py",
   "mimetype": "text/x-python",
   "name": "python",
   "nbconvert_exporter": "python",
   "pygments_lexer": "ipython3",
   "version": "3.6.7"
  }
 },
 "nbformat": 4,
 "nbformat_minor": 4
}

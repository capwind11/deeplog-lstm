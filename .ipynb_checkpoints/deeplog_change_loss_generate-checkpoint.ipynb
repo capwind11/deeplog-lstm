{
 "cells": [
  {
   "cell_type": "code",
   "execution_count": 1,
   "metadata": {},
   "outputs": [],
   "source": [
    "import time\n",
    "import torch\n",
    "import torch.nn as nn\n",
    "import torch.optim as optim\n",
    "from torch.utils.tensorboard import SummaryWriter\n",
    "from torch.utils.data import TensorDataset, DataLoader\n",
    "import argparse\n",
    "import os\n",
    "from tqdm import tqdm\n",
    "\n",
    "# Device configuration\n",
    "device = torch.device(\"cuda\" if torch.cuda.is_available() else \"cpu\")"
   ]
  },
  {
   "cell_type": "code",
   "execution_count": 2,
   "metadata": {},
   "outputs": [],
   "source": [
    "class Model(nn.Module):\n",
    "    def __init__(self, input_size, hidden_size, num_layers, num_keys):\n",
    "        super(Model, self).__init__()\n",
    "        self.hidden_size = hidden_size\n",
    "        self.num_layers = num_layers\n",
    "        self.lstm = nn.LSTM(input_size, hidden_size, num_layers, batch_first=True)\n",
    "        self.fc = nn.Linear(hidden_size, num_keys)\n",
    "\n",
    "    def forward(self, x):\n",
    "        h0 = torch.zeros(self.num_layers, x.size(0), self.hidden_size).to(device)\n",
    "        c0 = torch.zeros(self.num_layers, x.size(0), self.hidden_size).to(device)\n",
    "        out, _ = self.lstm(x, (h0, c0))\n",
    "        out = self.fc(out[:, :, :])\n",
    "        return out"
   ]
  },
  {
   "cell_type": "code",
   "execution_count": 3,
   "metadata": {},
   "outputs": [],
   "source": [
    "# Hyperparameters\n",
    "num_classes = 28\n",
    "num_epochs = 300\n",
    "batch_size = 2048\n",
    "input_size = 1\n",
    "model_dir = 'model'\n",
    "log = 'total_loss_batch_size={}_epoch={}'.format(str(batch_size), str(num_epochs))\n",
    "num_layers = 2\n",
    "hidden_size = 64\n",
    "window_size = 10\n",
    "file_dir = 'data/'"
   ]
  },
  {
   "cell_type": "code",
   "execution_count": 4,
   "metadata": {},
   "outputs": [
    {
     "data": {
      "text/plain": [
       "Model(\n",
       "  (lstm): LSTM(1, 64, num_layers=2, batch_first=True)\n",
       "  (fc): Linear(in_features=64, out_features=28, bias=True)\n",
       ")"
      ]
     },
     "execution_count": 4,
     "metadata": {},
     "output_type": "execute_result"
    }
   ],
   "source": [
    "model = Model(input_size, hidden_size, num_layers, num_classes).to(device)\n",
    "model.load_state_dict(torch.load(model_dir + '/' + log + '.pt'))\n",
    "model.eval()\n",
    "# print('model_path: {}'.format(model_path))\n"
   ]
  },
  {
   "cell_type": "code",
   "execution_count": 5,
   "metadata": {},
   "outputs": [],
   "source": [
    "window_size = 10"
   ]
  },
  {
   "cell_type": "code",
   "execution_count": 7,
   "metadata": {},
   "outputs": [],
   "source": [
    "def generate_test_data(name):\n",
    "    hdfs = set()\n",
    "    # hdfs = []\n",
    "    with open('data/' + name, 'r') as f:\n",
    "        for ln in f.readlines():\n",
    "            ln = list(map(lambda n: n - 1, map(int, ln.strip().split())))\n",
    "            ln = ln + [-1] * (window_size + 1 - len(ln))\n",
    "            hdfs.add(tuple(ln))\n",
    "            # hdfs.append(tuple(ln))\n",
    "    session_to_seq = []\n",
    "    seqs = []\n",
    "    labels = []\n",
    "    seq_count = 0\n",
    "    for line in tqdm(hdfs, \"normal:\"):\n",
    "        session = []\n",
    "        for i in range(len(line) - window_size):\n",
    "            seq = line[i:i + window_size]\n",
    "            label = line[i + window_size]\n",
    "            seqs.append(seq)\n",
    "            session.append(seq_count)\n",
    "            labels.append(label)\n",
    "            seq_count += 1\n",
    "        session_to_seq.append(session)\n",
    "    print('Number of sessions({}): {}'.format(name, len(session_to_seq)))\n",
    "    print('Number of seqs({}): {}'.format(name, len(seqs)))\n",
    "    dataset = TensorDataset(torch.tensor(seqs, dtype=torch.float), torch.tensor(labels))\n",
    "\n",
    "    # print('Number of sessions({}): {}'.format(name, len(hdfs)))\n",
    "    return session_to_seq, dataset"
   ]
  },
  {
   "cell_type": "code",
   "execution_count": 8,
   "metadata": {},
   "outputs": [
    {
     "name": "stderr",
     "output_type": "stream",
     "text": [
      "normal:: 100%|████████████████████████████████████████████████████████████████████| 839/839 [00:00<00:00, 11985.11it/s]"
     ]
    },
    {
     "name": "stdout",
     "output_type": "stream",
     "text": [
      "Number of sessions(hdfs_train): 839\n",
      "Number of seqs(hdfs_train): 11725\n"
     ]
    },
    {
     "name": "stderr",
     "output_type": "stream",
     "text": [
      "\n"
     ]
    }
   ],
   "source": [
    "test_normal_session, test_normal_dataset = generate_test_data('hdfs_train')\n",
    "normal_dataloader = DataLoader(test_normal_dataset, batch_size=batch_size, shuffle=False, pin_memory=True)\n",
    "# test_abnormal_session, test_abnormal_dataset = generate_test_data('hdfs_test_abnormal')\n",
    "# abnormal_dataloader = DataLoader(test_abnormal_dataset, batch_size=batch_size, shuffle=False, pin_memory=True)"
   ]
  },
  {
   "cell_type": "code",
   "execution_count": 79,
   "metadata": {},
   "outputs": [
    {
     "name": "stderr",
     "output_type": "stream",
     "text": [
      "normal: 118it [00:38,  3.09it/s]\n"
     ]
    }
   ],
   "source": [
    "TP = 0\n",
    "FP = 0\n",
    "num_candidates=5\n",
    "# Test the model\n",
    "start_time = time.time()\n",
    "result = []\n",
    "batch_size = 10000\n",
    "\n",
    "with torch.no_grad():\n",
    "    result = []\n",
    "    with torch.no_grad():\n",
    "        for step, (seq, labels) in tqdm(enumerate(normal_dataloader), desc='normal'):\n",
    "            seq = seq.clone().detach().view(-1, window_size, input_size).to(device)\n",
    "            output = model(seq).cpu()\n",
    "\n",
    "            predicted = torch.argsort(output[:,-1,:], 1)[:,-num_candidates:]\n",
    "            for i, label in enumerate(labels):\n",
    "                if label not in predicted[i]:\n",
    "                    result.append(True)\n",
    "                else:\n",
    "                    result.append(False)\n",
    "    FP = 0\n",
    "    for session in test_normal_session:\n",
    "        for seq in session:\n",
    "            if result[seq] == True:\n",
    "                FP += 1\n",
    "                break\n",
    "    result = []\n",
    "    TP = 0"
   ]
  },
  {
   "cell_type": "code",
   "execution_count": 80,
   "metadata": {},
   "outputs": [
    {
     "name": "stderr",
     "output_type": "stream",
     "text": [
      "normal: 40it [00:11,  3.47it/s]"
     ]
    },
    {
     "name": "stdout",
     "output_type": "stream",
     "text": [
      "elapsed_time: 58.959s\n",
      "false positive (FP): 1268, false negative (FN): 45, Precision: 76.281%, Recall: 98.909%, F1-measure: 86.134%\n",
      "Finished Predicting\n"
     ]
    },
    {
     "name": "stderr",
     "output_type": "stream",
     "text": [
      "\n"
     ]
    }
   ],
   "source": [
    "    with torch.no_grad():\n",
    "        for step, (seq, labels) in tqdm(enumerate(abnormal_dataloader), desc='normal'):\n",
    "            seq = seq.clone().detach().view(-1, window_size, input_size).to(device)\n",
    "            output = model(seq).cpu()\n",
    "\n",
    "            predicted = torch.argsort(output[:,-1,:], 1)[:,-num_candidates:]\n",
    "            for i, label in enumerate(labels):\n",
    "                if label not in predicted[i]:\n",
    "                    result.append(True)\n",
    "                else:\n",
    "                    result.append(False)\n",
    "    for session in test_abnormal_session:\n",
    "        for seq in session:\n",
    "            if result[seq] == True:\n",
    "                TP += 1\n",
    "                break\n",
    "elapsed_time = time.time() - start_time\n",
    "print('elapsed_time: {:.3f}s'.format(elapsed_time))\n",
    "# Compute precision, recall and F1-measure\n",
    "FN = len(test_abnormal_session) - TP\n",
    "P = 100 * TP / (TP + FP)\n",
    "R = 100 * TP / (TP + FN)\n",
    "F1 = 2 * P * R / (P + R)\n",
    "print('false positive (FP): {}, false negative (FN): {}, Precision: {:.3f}%, Recall: {:.3f}%, F1-measure: {:.3f}%'.format(FP, FN, P, R, F1))\n",
    "print('Finished Predicting')"
   ]
  },
  {
   "cell_type": "code",
   "execution_count": 9,
   "metadata": {},
   "outputs": [],
   "source": [
    "import random\n",
    "num_candidates=1"
   ]
  },
  {
   "cell_type": "code",
   "execution_count": 10,
   "metadata": {},
   "outputs": [],
   "source": [
    "def generate(test_data):\n",
    "    bg = test_data.size(1) \n",
    "    for i in range(bg,window_size+1):\n",
    "        start = torch.FloatTensor(test_data)\n",
    "        start = start.clone().detach().view(-1, i, input_size).permute(1,0,2).to(device)\n",
    "        output = model(start).cpu()\n",
    "        predicted = torch.argsort(output[-1], 1)[:, -num_candidates:]\n",
    "        nxt = random.randint(0,num_candidates-1)\n",
    "        test_data = torch.cat([test_data,predicted[:,nxt].reshape(1,-1).float()],1)\n",
    "#     print(test_data)\n",
    "    return test_data"
   ]
  },
  {
   "cell_type": "code",
   "execution_count": 11,
   "metadata": {},
   "outputs": [],
   "source": [
    "\n",
    "t = torch.FloatTensor([5.]).reshape(1,-1)\n",
    "t = generate(t)"
   ]
  },
  {
   "cell_type": "code",
   "execution_count": 13,
   "metadata": {},
   "outputs": [
    {
     "name": "stdout",
     "output_type": "stream",
     "text": [
      "tensor([[ 5., 10.,  8., 10.,  8., 10.,  8., 10.,  8., 10.,  8.]])\n"
     ]
    }
   ],
   "source": [
    "print(t)"
   ]
  },
  {
   "cell_type": "code",
   "execution_count": 16,
   "metadata": {},
   "outputs": [
    {
     "name": "stdout",
     "output_type": "stream",
     "text": [
      "tensor([[10.,  8., 10.,  8., 10.,  8., 10.,  8., 10.,  8., 10.]])\n",
      "tensor([10.,  8., 10.,  8.,  1.,  3.,  3.,  2.,  1., 22.])\n",
      "tensor([[ 8., 10.,  8., 10.,  8., 10.,  8., 10.,  8., 10.]])\n",
      "tensor([ 8., 10.,  8.,  1.,  3.,  3.,  2.,  1., 22.])\n",
      "\n",
      "tensor([[ 8., 10.,  8., 10.,  8., 10.,  8., 10.,  8., 10.,  8.]])\n",
      "tensor([ 8., 10.,  8.,  1.,  3.,  3.,  2.,  1., 22., 22.])\n",
      "tensor([[10.,  8., 10.,  8., 10.,  8., 10.,  8., 10.,  8.]])\n",
      "tensor([10.,  8.,  1.,  3.,  3.,  2.,  1., 22., 22.])\n",
      "\n",
      "tensor([[10.,  8., 10.,  8., 10.,  8., 10.,  8., 10.,  8., 10.]])\n",
      "tensor([10.,  8.,  1.,  3.,  3.,  2.,  1., 22., 22., 22.])\n",
      "tensor([[ 8., 10.,  8., 10.,  8., 10.,  8., 10.,  8., 10.]])\n",
      "tensor([ 8.,  1.,  3.,  3.,  2.,  1., 22., 22., 22.])\n",
      "\n",
      "tensor([[ 8., 10.,  8., 10.,  8., 10.,  8., 10.,  8., 10.,  8.]])\n",
      "tensor([ 8.,  1.,  3.,  3.,  2.,  1., 22., 22., 22., 20.])\n",
      "tensor([[10.,  8., 10.,  8., 10.,  8., 10.,  8., 10.,  8.]])\n",
      "tensor([ 1.,  3.,  3.,  2.,  1., 22., 22., 22., 20.])\n",
      "\n",
      "tensor([[1., 3., 2., 3., 2., 3., 2., 3., 2., 3., 2.]])\n",
      "tensor([ 1.,  3.,  3.,  2.,  1., 22., 22., 22., 20., 20.])\n",
      "tensor([[3., 2., 3., 2., 3., 2., 3., 2., 3., 2.]])\n",
      "tensor([ 3.,  3.,  2.,  1., 22., 22., 22., 20., 20.])\n",
      "\n",
      "tensor([[4., 4., 4., 4., 4., 4., 4., 4., 4., 4., 4.]])\n",
      "tensor([ 4.,  4., 21.,  4., 10.,  8., 10.,  8., 25., 25.])\n",
      "tensor([[4., 4., 4., 4., 4., 4., 4., 4., 4., 4.]])\n",
      "tensor([ 4., 21.,  4., 10.,  8., 10.,  8., 25., 25.])\n",
      "\n",
      "tensor([[4., 4., 4., 4., 4., 4., 4., 4., 4., 4., 4.]])\n",
      "tensor([ 4., 21.,  4., 10.,  8., 10.,  8., 25., 25., 25.])\n",
      "tensor([[4., 4., 4., 4., 4., 4., 4., 4., 4., 4.]])\n",
      "tensor([21.,  4., 10.,  8., 10.,  8., 25., 25., 25.])\n",
      "\n",
      "tensor([[21.,  4.,  4.,  4.,  4.,  4.,  4.,  4.,  4.,  4.,  4.]])\n",
      "tensor([21.,  4., 10.,  8., 10.,  8., 25., 25., 25., 10.])\n",
      "tensor([[4., 4., 4., 4., 4., 4., 4., 4., 4., 4.]])\n",
      "tensor([ 4., 10.,  8., 10.,  8., 25., 25., 25., 10.])\n",
      "\n",
      "tensor([[4., 4., 4., 4., 4., 4., 4., 4., 4., 4., 4.]])\n",
      "tensor([ 4., 10.,  8., 10.,  8., 25., 25., 25., 10.,  8.])\n",
      "tensor([[4., 4., 4., 4., 4., 4., 4., 4., 4., 4.]])\n",
      "tensor([10.,  8., 10.,  8., 25., 25., 25., 10.,  8.])\n",
      "\n",
      "tensor([[10.,  8., 10.,  8., 10.,  8., 10.,  8., 10.,  8., 10.]])\n",
      "tensor([10.,  8., 10.,  8., 25., 25., 25., 10.,  8.,  3.])\n",
      "tensor([[ 8., 10.,  8., 10.,  8., 10.,  8., 10.,  8., 10.]])\n",
      "tensor([ 8., 10.,  8., 25., 25., 25., 10.,  8.,  3.])\n",
      "\n"
     ]
    }
   ],
   "source": [
    "for s in seq[100:110]:\n",
    "    t = s[:1].reshape(1,-1)\n",
    "    print(generate(t))\n",
    "    print(s)\n",
    "    print(generate(t)[:,t.size(1):])\n",
    "    print(s[t.size(1):])\n",
    "    print()"
   ]
  },
  {
   "cell_type": "code",
   "execution_count": 14,
   "metadata": {},
   "outputs": [
    {
     "name": "stderr",
     "output_type": "stream",
     "text": [
      "normal: 0it [00:00, ?it/s]\n"
     ]
    }
   ],
   "source": [
    "with torch.no_grad():\n",
    "    for step, (seq, labels) in tqdm(enumerate(normal_dataloader), desc='normal'):\n",
    "        break"
   ]
  },
  {
   "cell_type": "code",
   "execution_count": null,
   "metadata": {},
   "outputs": [],
   "source": [
    "seq"
   ]
  },
  {
   "cell_type": "code",
   "execution_count": 89,
   "metadata": {},
   "outputs": [],
   "source": [
    "def predict(input):\n",
    "    input = input.clone().detach().view(-1, window_size, input_size).permute(1,0,2).to(device)\n",
    "    output = model(start).cpu()\n",
    "    predicted = torch.argsort(output[-1], 1)[:, -5:]\n",
    "    return predicted"
   ]
  },
  {
   "cell_type": "code",
   "execution_count": 94,
   "metadata": {},
   "outputs": [
    {
     "data": {
      "text/plain": [
       "tensor([[ 8,  3,  2, 25, 10]])"
      ]
     },
     "execution_count": 94,
     "metadata": {},
     "output_type": "execute_result"
    }
   ],
   "source": [
    "predict(t[:,:10])"
   ]
  },
  {
   "cell_type": "code",
   "execution_count": null,
   "metadata": {},
   "outputs": [],
   "source": []
  }
 ],
 "metadata": {
  "kernelspec": {
   "display_name": "Python 3.6.7 64-bit ('cuda_pytorch': conda)",
   "language": "python",
   "name": "python36764bitcudapytorchconda3e33319a1fef4dc990a9d2f171216946"
  },
  "language_info": {
   "codemirror_mode": {
    "name": "ipython",
    "version": 3
   },
   "file_extension": ".py",
   "mimetype": "text/x-python",
   "name": "python",
   "nbconvert_exporter": "python",
   "pygments_lexer": "ipython3",
   "version": "3.6.7"
  }
 },
 "nbformat": 4,
 "nbformat_minor": 4
}

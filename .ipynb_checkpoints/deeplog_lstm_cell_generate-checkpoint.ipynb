{
 "cells": [
  {
   "cell_type": "code",
   "execution_count": 8,
   "metadata": {},
   "outputs": [],
   "source": [
    "import time\n",
    "import torch\n",
    "import torch.nn as nn\n",
    "import torch.optim as optim\n",
    "from torch.utils.tensorboard import SummaryWriter\n",
    "from torch.utils.data import TensorDataset, DataLoader\n",
    "import argparse\n",
    "import os\n",
    "from tqdm import tqdm\n",
    "\n",
    "# Device configuration\n",
    "device = torch.device(\"cuda\" if torch.cuda.is_available() else \"cpu\")"
   ]
  },
  {
   "cell_type": "code",
   "execution_count": 9,
   "metadata": {},
   "outputs": [],
   "source": [
    "def generate(name):\n",
    "    num_sessions = 0\n",
    "    inputs = []\n",
    "    outputs = []\n",
    "    with open(name, 'r') as f:\n",
    "        for line in tqdm(f,\"loading data\"):\n",
    "            num_sessions += 1\n",
    "            line = tuple(map(lambda n: n - 1, map(int, line.strip().split())))\n",
    "            for i in range(len(line) - window_size):\n",
    "                inputs.append(line[i:i + window_size])\n",
    "                outputs.append(line[i + window_size])\n",
    "    print('Number of sessions({}): {}'.format(name, num_sessions))\n",
    "    print('Number of seqs({}): {}'.format(name, len(inputs)))\n",
    "    dataset = TensorDataset(torch.tensor(inputs, dtype=torch.float), torch.tensor(outputs))\n",
    "    return dataset\n",
    "\n",
    "\n",
    "class Model(nn.Module):\n",
    "    def __init__(self, input_size, hidden_size, num_layers, num_keys):\n",
    "        super(Model, self).__init__()\n",
    "        self.hidden_size = hidden_size\n",
    "        self.num_layers = num_layers\n",
    "        self.cell_0 = nn.LSTMCell(input_size, hidden_size)\n",
    "        self.cell_1 = nn.LSTMCell(hidden_size, hidden_size)\n",
    "        self.fc = nn.Linear(hidden_size, num_keys)\n",
    "\n",
    "    def forward(self, x):\n",
    "        h0 = torch.zeros(x.size(1), self.hidden_size).to(device)\n",
    "        c0 = torch.zeros(x.size(1), self.hidden_size).to(device)\n",
    "        h1 = torch.zeros(x.size(1), self.hidden_size).to(device)\n",
    "        c1 = torch.zeros(x.size(1), self.hidden_size).to(device)\n",
    "        for xt in x:\n",
    "            h0, c0 = self.cell_0(xt, (h0, c0))  # l0层直接接受xt输入\n",
    "            h1, c1 = self.cell_1(h0, (h1, c1))  # l1层接受l0层的输出h为输入\n",
    "\n",
    "        out = self.fc(h1)\n",
    "        return out"
   ]
  },
  {
   "cell_type": "code",
   "execution_count": 10,
   "metadata": {},
   "outputs": [],
   "source": [
    "# Hyperparameters\n",
    "num_classes = 28\n",
    "num_epochs = 300\n",
    "batch_size = 1024\n",
    "input_size = 1\n",
    "model_dir = 'model'\n",
    "log = 'Lstm_Cell_Adam_batch_size={}_epoch={}'.format(str(batch_size), str(num_epochs))\n",
    "num_layers = 2\n",
    "hidden_size = 64\n",
    "window_size = 10\n",
    "file_dir = 'data/'"
   ]
  },
  {
   "cell_type": "code",
   "execution_count": 4,
   "metadata": {},
   "outputs": [
    {
     "data": {
      "text/plain": [
       "Model(\n",
       "  (cell_0): LSTMCell(1, 64)\n",
       "  (cell_1): LSTMCell(64, 64)\n",
       "  (fc): Linear(in_features=64, out_features=28, bias=True)\n",
       ")"
      ]
     },
     "execution_count": 4,
     "metadata": {},
     "output_type": "execute_result"
    }
   ],
   "source": [
    "model = Model(input_size, hidden_size, num_layers, num_classes)\n",
    "model.load_state_dict(torch.load(model_dir + '/' + log + '.pt'))\n",
    "model.to(device)"
   ]
  },
  {
   "cell_type": "code",
   "execution_count": 6,
   "metadata": {},
   "outputs": [
    {
     "data": {
      "text/plain": [
       "Model(\n",
       "  (cell_0): LSTMCell(1, 64)\n",
       "  (cell_1): LSTMCell(64, 64)\n",
       "  (fc): Linear(in_features=64, out_features=28, bias=True)\n",
       ")"
      ]
     },
     "execution_count": 6,
     "metadata": {},
     "output_type": "execute_result"
    }
   ],
   "source": [
    "model.eval()"
   ]
  },
  {
   "cell_type": "code",
   "execution_count": 13,
   "metadata": {},
   "outputs": [],
   "source": [
    "def generate_test_data(name):\n",
    "    hdfs = set()\n",
    "    # hdfs = []\n",
    "    with open('data/' + name, 'r') as f:\n",
    "        for ln in f.readlines():\n",
    "            ln = list(map(lambda n: n - 1, map(int, ln.strip().split())))\n",
    "            ln = ln + [-1] * (window_size + 1 - len(ln))\n",
    "            hdfs.add(tuple(ln))\n",
    "            # hdfs.append(tuple(ln))\n",
    "    session_to_seq = []\n",
    "    seqs = []\n",
    "    labels = []\n",
    "    seq_count = 0\n",
    "    for line in tqdm(hdfs, \"normal:\"):\n",
    "        session = []\n",
    "        for i in range(len(line) - window_size):\n",
    "            seq = line[i:i + window_size]\n",
    "            label = line[i + window_size]\n",
    "            seqs.append(seq)\n",
    "            session.append(seq_count)\n",
    "            labels.append(label)\n",
    "            seq_count += 1\n",
    "        session_to_seq.append(session)\n",
    "    print('Number of sessions({}): {}'.format(name, len(session_to_seq)))\n",
    "    print('Number of seqs({}): {}'.format(name, len(seqs)))\n",
    "    dataset = TensorDataset(torch.tensor(seqs, dtype=torch.float), torch.tensor(labels))\n",
    "\n",
    "    # print('Number of sessions({}): {}'.format(name, len(hdfs)))\n",
    "    return session_to_seq, dataset, hdfs"
   ]
  },
  {
   "cell_type": "code",
   "execution_count": 14,
   "metadata": {},
   "outputs": [
    {
     "name": "stderr",
     "output_type": "stream",
     "text": [
      "normal:: 100%|████████████████████████████████████████████████████████████████| 14177/14177 [00:00<00:00, 16351.09it/s]\n"
     ]
    },
    {
     "name": "stdout",
     "output_type": "stream",
     "text": [
      "Number of sessions(hdfs_test_normal): 14177\n",
      "Number of seqs(hdfs_test_normal): 241216\n"
     ]
    }
   ],
   "source": [
    "test_normal_session, test_normal_dataset,hdfs = generate_test_data('hdfs_test_normal')"
   ]
  },
  {
   "cell_type": "code",
   "execution_count": 25,
   "metadata": {},
   "outputs": [
    {
     "name": "stdout",
     "output_type": "stream",
     "text": [
      "(21, 4, 4, 4, 10, 8, 8, 25, 25, 25, 10, 10, 8, 3, 2, 2, 2, 3, 2, 3, 2, 2, 2, 3, 2, 22, 22, 22, 20, 20, 20)\n"
     ]
    }
   ],
   "source": [
    "print(list(hdfs)[8])\n",
    "seq = list(list(hdfs)[8])"
   ]
  },
  {
   "cell_type": "code",
   "execution_count": 43,
   "metadata": {},
   "outputs": [],
   "source": [
    "# The numpy patterns is transformed into a tesor-type and reshaped\n",
    "pattern = torch.FloatTensor(seq)\n",
    "pattern = pattern.view(1,-1)"
   ]
  },
  {
   "cell_type": "code",
   "execution_count": 59,
   "metadata": {},
   "outputs": [],
   "source": [
    "window_size = 8"
   ]
  },
  {
   "cell_type": "code",
   "execution_count": 66,
   "metadata": {},
   "outputs": [
    {
     "name": "stdout",
     "output_type": "stream",
     "text": [
      "window size:1\n",
      "tensor([[21.]])\n",
      "tensor([[21.,  4.,  4.,  4., 10.,  8.,  8., 25., 25., 25., 10., 10.,  8.,  3.,\n",
      "          2.,  2.,  2.,  3.,  2.,  3.,  2.,  2.,  2.,  3.,  2., 22., 22., 22.,\n",
      "         20., 20., 20.]])\n",
      "tensor([[ 8,  2,  1, 25,  3, 10, 24, 20, 17, 22]])\n",
      "\n",
      "window size:2\n",
      "tensor([[21.,  4.]])\n",
      "tensor([[21.,  4.,  4.,  4., 10.,  8.,  8., 25., 25., 25., 10., 10.,  8.,  3.,\n",
      "          2.,  2.,  2.,  3.,  2.,  3.,  2.,  2.,  2.,  3.,  2., 22., 22., 22.,\n",
      "         20., 20., 20.]])\n",
      "tensor([[10,  5, 22, 20, 24,  4,  8, 15,  2,  3]])\n",
      "\n",
      "window size:3\n",
      "tensor([[21.,  4.,  4.]])\n",
      "tensor([[21.,  4.,  4.,  4., 10.,  8.,  8., 25., 25., 25., 10., 10.,  8.,  3.,\n",
      "          2.,  2.,  2.,  3.,  2.,  3.,  2.,  2.,  2.,  3.,  2., 22., 22., 22.,\n",
      "         20., 20., 20.]])\n",
      "tensor([[20, 10, 24, 21, 25,  1, 15, 22,  2,  3]])\n",
      "\n",
      "window size:4\n",
      "tensor([[21.,  4.,  4.,  4.]])\n",
      "tensor([[21.,  4.,  4.,  4., 10.,  8.,  8., 25., 25., 25., 10., 10.,  8.,  3.,\n",
      "          2.,  2.,  2.,  3.,  2.,  3.,  2.,  2.,  2.,  3.,  2., 22., 22., 22.,\n",
      "         20., 20., 20.]])\n",
      "tensor([[20, 17, 10, 21, 24, 25,  1,  2,  3, 22]])\n",
      "\n",
      "window size:5\n",
      "tensor([[21.,  4.,  4.,  4., 10.]])\n",
      "tensor([[21.,  4.,  4.,  4., 10.,  8.,  8., 25., 25., 25., 10., 10.,  8.,  3.,\n",
      "          2.,  2.,  2.,  3.,  2.,  3.,  2.,  2.,  2.,  3.,  2., 22., 22., 22.,\n",
      "         20., 20., 20.]])\n",
      "tensor([[17, 21, 10, 24, 20,  4,  1,  3,  2, 22]])\n",
      "\n",
      "window size:6\n",
      "tensor([[21.,  4.,  4.,  4., 10.,  8.]])\n",
      "tensor([[21.,  4.,  4.,  4., 10.,  8.,  8., 25., 25., 25., 10., 10.,  8.,  3.,\n",
      "          2.,  2.,  2.,  3.,  2.,  3.,  2.,  2.,  2.,  3.,  2., 22., 22., 22.,\n",
      "         20., 20., 20.]])\n",
      "tensor([[ 1, 20,  4, 10,  5, 15, 22,  8,  2,  3]])\n",
      "\n",
      "window size:7\n",
      "tensor([[21.,  4.,  4.,  4., 10.,  8.,  8.]])\n",
      "tensor([[21.,  4.,  4.,  4., 10.,  8.,  8., 25., 25., 25., 10., 10.,  8.,  3.,\n",
      "          2.,  2.,  2.,  3.,  2.,  3.,  2.,  2.,  2.,  3.,  2., 22., 22., 22.,\n",
      "         20., 20., 20.]])\n",
      "tensor([[22, 21, 20,  5,  2,  3, 25, 15, 10,  8]])\n",
      "\n",
      "window size:8\n",
      "tensor([[21.,  4.,  4.,  4., 10.,  8.,  8., 25.]])\n",
      "tensor([[21.,  4.,  4.,  4., 10.,  8.,  8., 25., 25., 25., 10., 10.,  8.,  3.,\n",
      "          2.,  2.,  2.,  3.,  2.,  3.,  2.,  2.,  2.,  3.,  2., 22., 22., 22.,\n",
      "         20., 20., 20.]])\n",
      "tensor([[21, 15, 20,  5,  3,  2, 22,  8, 25, 10]])\n",
      "\n",
      "window size:9\n",
      "tensor([[21.,  4.,  4.,  4., 10.,  8.,  8., 25., 25.]])\n",
      "tensor([[21.,  4.,  4.,  4., 10.,  8.,  8., 25., 25., 25., 10., 10.,  8.,  3.,\n",
      "          2.,  2.,  2.,  3.,  2.,  3.,  2.,  2.,  2.,  3.,  2., 22., 22., 22.,\n",
      "         20., 20., 20.]])\n",
      "tensor([[17, 21, 20,  5,  2,  3, 22,  8, 25, 10]])\n",
      "\n",
      "window size:10\n",
      "tensor([[21.,  4.,  4.,  4., 10.,  8.,  8., 25., 25., 25.]])\n",
      "tensor([[21.,  4.,  4.,  4., 10.,  8.,  8., 25., 25., 25., 10., 10.,  8.,  3.,\n",
      "          2.,  2.,  2.,  3.,  2.,  3.,  2.,  2.,  2.,  3.,  2., 22., 22., 22.,\n",
      "         20., 20., 20.]])\n",
      "tensor([[ 1, 17, 20,  5,  2,  3, 22,  8, 25, 10]])\n",
      "\n",
      "window size:11\n",
      "tensor([[21.,  4.,  4.,  4., 10.,  8.,  8., 25., 25., 25., 10.]])\n",
      "tensor([[21.,  4.,  4.,  4., 10.,  8.,  8., 25., 25., 25., 10., 10.,  8.,  3.,\n",
      "          2.,  2.,  2.,  3.,  2.,  3.,  2.,  2.,  2.,  3.,  2., 22., 22., 22.,\n",
      "         20., 20., 20.]])\n",
      "tensor([[22, 20, 15,  4,  3,  2,  5, 25, 10,  8]])\n",
      "\n",
      "window size:12\n",
      "tensor([[21.,  4.,  4.,  4., 10.,  8.,  8., 25., 25., 25., 10., 10.]])\n",
      "tensor([[21.,  4.,  4.,  4., 10.,  8.,  8., 25., 25., 25., 10., 10.,  8.,  3.,\n",
      "          2.,  2.,  2.,  3.,  2.,  3.,  2.,  2.,  2.,  3.,  2., 22., 22., 22.,\n",
      "         20., 20., 20.]])\n",
      "tensor([[22,  3, 15, 20,  2,  4,  5, 25, 10,  8]])\n",
      "\n",
      "window size:13\n",
      "tensor([[21.,  4.,  4.,  4., 10.,  8.,  8., 25., 25., 25., 10., 10.,  8.]])\n",
      "tensor([[21.,  4.,  4.,  4., 10.,  8.,  8., 25., 25., 25., 10., 10.,  8.,  3.,\n",
      "          2.,  2.,  2.,  3.,  2.,  3.,  2.,  2.,  2.,  3.,  2., 22., 22., 22.,\n",
      "         20., 20., 20.]])\n",
      "tensor([[24, 15, 20,  1,  3,  2,  5, 10,  8, 25]])\n",
      "\n",
      "window size:14\n",
      "tensor([[21.,  4.,  4.,  4., 10.,  8.,  8., 25., 25., 25., 10., 10.,  8.,  3.]])\n",
      "tensor([[21.,  4.,  4.,  4., 10.,  8.,  8., 25., 25., 25., 10., 10.,  8.,  3.,\n",
      "          2.,  2.,  2.,  3.,  2.,  3.,  2.,  2.,  2.,  3.,  2., 22., 22., 22.,\n",
      "         20., 20., 20.]])\n",
      "tensor([[ 5, 24, 15, 21,  8,  2,  3,  1, 10, 25]])\n",
      "\n",
      "window size:15\n",
      "tensor([[21.,  4.,  4.,  4., 10.,  8.,  8., 25., 25., 25., 10., 10.,  8.,  3.,\n",
      "          2.]])\n",
      "tensor([[21.,  4.,  4.,  4., 10.,  8.,  8., 25., 25., 25., 10., 10.,  8.,  3.,\n",
      "          2.,  2.,  2.,  3.,  2.,  3.,  2.,  2.,  2.,  3.,  2., 22., 22., 22.,\n",
      "         20., 20., 20.]])\n",
      "tensor([[20, 24, 15, 22, 21,  3,  2,  1, 10, 25]])\n",
      "\n",
      "window size:16\n",
      "tensor([[21.,  4.,  4.,  4., 10.,  8.,  8., 25., 25., 25., 10., 10.,  8.,  3.,\n",
      "          2.,  2.]])\n",
      "tensor([[21.,  4.,  4.,  4., 10.,  8.,  8., 25., 25., 25., 10., 10.,  8.,  3.,\n",
      "          2.,  2.,  2.,  3.,  2.,  3.,  2.,  2.,  2.,  3.,  2., 22., 22., 22.,\n",
      "         20., 20., 20.]])\n",
      "tensor([[24, 20, 15, 22, 21,  1, 10,  3,  2, 25]])\n",
      "\n",
      "window size:17\n",
      "tensor([[21.,  4.,  4.,  4., 10.,  8.,  8., 25., 25., 25., 10., 10.,  8.,  3.,\n",
      "          2.,  2.,  2.]])\n",
      "tensor([[21.,  4.,  4.,  4., 10.,  8.,  8., 25., 25., 25., 10., 10.,  8.,  3.,\n",
      "          2.,  2.,  2.,  3.,  2.,  3.,  2.,  2.,  2.,  3.,  2., 22., 22., 22.,\n",
      "         20., 20., 20.]])\n",
      "tensor([[24, 20, 15, 22, 21, 10,  1, 25,  3,  2]])\n",
      "\n",
      "window size:18\n",
      "tensor([[21.,  4.,  4.,  4., 10.,  8.,  8., 25., 25., 25., 10., 10.,  8.,  3.,\n",
      "          2.,  2.,  2.,  3.]])\n",
      "tensor([[21.,  4.,  4.,  4., 10.,  8.,  8., 25., 25., 25., 10., 10.,  8.,  3.,\n",
      "          2.,  2.,  2.,  3.,  2.,  3.,  2.,  2.,  2.,  3.,  2., 22., 22., 22.,\n",
      "         20., 20., 20.]])\n",
      "tensor([[24, 20, 22, 15, 10, 21,  1, 25,  3,  2]])\n",
      "\n",
      "window size:19\n",
      "tensor([[21.,  4.,  4.,  4., 10.,  8.,  8., 25., 25., 25., 10., 10.,  8.,  3.,\n",
      "          2.,  2.,  2.,  3.,  2.]])\n",
      "tensor([[21.,  4.,  4.,  4., 10.,  8.,  8., 25., 25., 25., 10., 10.,  8.,  3.,\n",
      "          2.,  2.,  2.,  3.,  2.,  3.,  2.,  2.,  2.,  3.,  2., 22., 22., 22.,\n",
      "         20., 20., 20.]])\n",
      "tensor([[ 5, 24, 15, 10, 21, 22,  1, 25,  3,  2]])\n",
      "\n"
     ]
    }
   ],
   "source": [
    "for window_size in range(1,20):\n",
    "    test_data = pattern[:,:window_size]\n",
    "    start = test_data.clone().detach().view(-1, window_size, input_size).permute(1,0,2).to(device)\n",
    "    output = model(start).cpu()\n",
    "    predicted = torch.argsort(output, 1)[:,-10:]\n",
    "    print('window size:'+ str(window_size))\n",
    "    print(test_data)\n",
    "    print(pattern)\n",
    "    print(predicted)\n",
    "    print()"
   ]
  },
  {
   "cell_type": "code",
   "execution_count": 60,
   "metadata": {},
   "outputs": [],
   "source": []
  },
  {
   "cell_type": "code",
   "execution_count": null,
   "metadata": {},
   "outputs": [],
   "source": [
    "# Define the softmax function\n",
    "softmax = nn.Softmax(dim=1)\n",
    "\n",
    "# Randomly is selected the index from the set of sequences\n",
    "start = logseq[0]\n",
    "seq = [start]\n",
    "full_prediction = []\n",
    "\n",
    "# The prediction starts, it is going to be predicted a given\n",
    "# number of characters\n",
    "for i in range(20):\n",
    "\n",
    "    # The numpy patterns is transformed into a tesor-type and reshaped\n",
    "    pattern = torch.from_numpy(seq).type(torch.LongTensor)\n",
    "    pattern = pattern.view(1,-1)\n",
    "    with torch.no_grad():\n",
    "        start = pattern.clone().detach().view(-1, len(pattern), input_size).permute(1,0,2).to(device)\n",
    "        output = model(start).cpu()\n",
    "        predicted = torch.argsort(output, 1)[:,-num_candidates:]\n",
    "        print(predicted)\n",
    "\n",
    "    # The full prediction is saved\n",
    "    full_prediction = np.append(full_prediction, arg_max)\n",
    "\n",
    "print(\"Prediction: \\n\")\n",
    "print(''.join([idx_to_char[value] for value in full_prediction]), \"\\\"\")"
   ]
  },
  {
   "cell_type": "code",
   "execution_count": null,
   "metadata": {},
   "outputs": [],
   "source": []
  }
 ],
 "metadata": {
  "kernelspec": {
   "display_name": "Python 3.6.7 64-bit ('cuda_pytorch': conda)",
   "language": "python",
   "name": "python36764bitcudapytorchconda3e33319a1fef4dc990a9d2f171216946"
  },
  "language_info": {
   "codemirror_mode": {
    "name": "ipython",
    "version": 3
   },
   "file_extension": ".py",
   "mimetype": "text/x-python",
   "name": "python",
   "nbconvert_exporter": "python",
   "pygments_lexer": "ipython3",
   "version": "3.6.7"
  }
 },
 "nbformat": 4,
 "nbformat_minor": 4
}

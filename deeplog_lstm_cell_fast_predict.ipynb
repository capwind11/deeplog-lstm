{
 "cells": [
  {
   "cell_type": "code",
   "execution_count": 3,
   "metadata": {},
   "outputs": [],
   "source": [
    "import time\n",
    "import torch\n",
    "import torch.nn as nn\n",
    "import torch.optim as optim\n",
    "from torch.utils.tensorboard import SummaryWriter\n",
    "from torch.utils.data import TensorDataset, DataLoader\n",
    "import argparse\n",
    "import os\n",
    "from tqdm import tqdm\n",
    "\n",
    "# Device configuration\n",
    "device = torch.device(\"cuda\" if torch.cuda.is_available() else \"cpu\")"
   ]
  },
  {
   "cell_type": "code",
   "execution_count": 4,
   "metadata": {},
   "outputs": [],
   "source": [
    "def generate(name):\n",
    "    num_sessions = 0\n",
    "    inputs = []\n",
    "    outputs = []\n",
    "    with open(name, 'r') as f:\n",
    "        for line in tqdm(f,\"loading data\"):\n",
    "            num_sessions += 1\n",
    "            line = tuple(map(lambda n: n - 1, map(int, line.strip().split())))\n",
    "            for i in range(len(line) - window_size):\n",
    "                inputs.append(line[i:i + window_size])\n",
    "                outputs.append(line[i + window_size])\n",
    "    print('Number of sessions({}): {}'.format(name, num_sessions))\n",
    "    print('Number of seqs({}): {}'.format(name, len(inputs)))\n",
    "    dataset = TensorDataset(torch.tensor(inputs, dtype=torch.float), torch.tensor(outputs))\n",
    "    return dataset\n",
    "\n",
    "\n",
    "class Model(nn.Module):\n",
    "    def __init__(self, input_size, hidden_size, num_layers, num_keys):\n",
    "        super(Model, self).__init__()\n",
    "        self.hidden_size = hidden_size\n",
    "        self.num_layers = num_layers\n",
    "        self.cell_0 = nn.LSTMCell(input_size, hidden_size)\n",
    "        self.cell_1 = nn.LSTMCell(hidden_size, hidden_size)\n",
    "        self.fc = nn.Linear(hidden_size, num_keys)\n",
    "\n",
    "    def forward(self, x):\n",
    "        h0 = torch.zeros(x.size(1), self.hidden_size).to(device)\n",
    "        c0 = torch.zeros(x.size(1), self.hidden_size).to(device)\n",
    "        h1 = torch.zeros(x.size(1), self.hidden_size).to(device)\n",
    "        c1 = torch.zeros(x.size(1), self.hidden_size).to(device)\n",
    "        for xt in x:\n",
    "            h0, c0 = self.cell_0(xt, (h0, c0))  # l0层直接接受xt输入\n",
    "            h1, c1 = self.cell_1(h0, (h1, c1))  # l1层接受l0层的输出h为输入\n",
    "\n",
    "        out = self.fc(h1)\n",
    "        return out"
   ]
  },
  {
   "cell_type": "code",
   "execution_count": 5,
   "metadata": {},
   "outputs": [],
   "source": [
    "# Hyperparameters\n",
    "num_classes = 28\n",
    "num_epochs = 300\n",
    "batch_size = 1024\n",
    "input_size = 1\n",
    "model_dir = 'model'\n",
    "log = 'Lstm_Cell_Adam_batch_size={}_epoch={}'.format(str(batch_size), str(num_epochs))\n",
    "num_layers = 2\n",
    "hidden_size = 64\n",
    "window_size = 10\n",
    "file_dir = 'data/'"
   ]
  },
  {
   "cell_type": "code",
   "execution_count": 9,
   "metadata": {},
   "outputs": [
    {
     "name": "stderr",
     "output_type": "stream",
     "text": [
      "loading data: 4855it [00:00, 22531.56it/s]"
     ]
    },
    {
     "name": "stdout",
     "output_type": "stream",
     "text": [
      "Number of sessions(data/hdfs_train): 4855\n",
      "Number of seqs(data/hdfs_train): 46575\n"
     ]
    },
    {
     "name": "stderr",
     "output_type": "stream",
     "text": [
      "\n"
     ]
    }
   ],
   "source": [
    "seq_dataset = generate(file_dir+'hdfs_train')\n",
    "dataloader = DataLoader(seq_dataset, batch_size=batch_size, shuffle=True, pin_memory=True)"
   ]
  },
  {
   "cell_type": "code",
   "execution_count": 6,
   "metadata": {},
   "outputs": [],
   "source": [
    "model = Model(input_size, hidden_size, num_layers, num_classes).to(device)"
   ]
  },
  {
   "cell_type": "code",
   "execution_count": 7,
   "metadata": {},
   "outputs": [
    {
     "data": {
      "text/plain": [
       "<All keys matched successfully>"
      ]
     },
     "execution_count": 7,
     "metadata": {},
     "output_type": "execute_result"
    }
   ],
   "source": [
    "model.load_state_dict(torch.load(model_dir + '/' + log + '.pt'))"
   ]
  },
  {
   "cell_type": "code",
   "execution_count": 10,
   "metadata": {},
   "outputs": [],
   "source": [
    "writer = SummaryWriter(log_dir='log/' + log)\n",
    "# Loss and optimizer\n",
    "criterion = nn.CrossEntropyLoss()\n",
    "optimizer = optim.Adam(model.parameters())\n",
    "# Train the model\n",
    "total_step = len(dataloader)\n",
    "current_epoch = 0"
   ]
  },
  {
   "cell_type": "code",
   "execution_count": 11,
   "metadata": {},
   "outputs": [],
   "source": [
    "num_epochs = 100"
   ]
  },
  {
   "cell_type": "code",
   "execution_count": 12,
   "metadata": {},
   "outputs": [
    {
     "name": "stderr",
     "output_type": "stream",
     "text": [
      "E:\\Programs\\Anaconda\\envs\\cuda_pytorch\\lib\\site-packages\\torch\\tensor.py:461: RuntimeWarning: Iterating over a tensor might cause the trace to be incorrect. Passing a tensor of different shape won't change the number of iterations executed (and might lead to errors or silently give incorrect results).\n",
      "  'incorrect results).', category=RuntimeWarning)\n"
     ]
    },
    {
     "name": "stdout",
     "output_type": "stream",
     "text": [
      "Epoch [1/100], train_loss: 0.2195\n",
      "KeyboardInterrupt: \n",
      "\n",
      "At:\n",
      "  E:\\Programs\\Anaconda\\envs\\cuda_pytorch\\lib\\site-packages\\torch\\jit\\__init__.py(300): _get_interpreter_name_for_var\n",
      "  E:\\Programs\\Anaconda\\envs\\cuda_pytorch\\lib\\site-packages\\torch\\nn\\modules\\rnn.py(944): forward\n",
      "  E:\\Programs\\Anaconda\\envs\\cuda_pytorch\\lib\\site-packages\\torch\\nn\\modules\\module.py(516): _slow_forward\n",
      "  E:\\Programs\\Anaconda\\envs\\cuda_pytorch\\lib\\site-packages\\torch\\nn\\modules\\module.py(530): __call__\n",
      "  <ipython-input-2-6ad89cfa314f>(33): forward\n",
      "  E:\\Programs\\Anaconda\\envs\\cuda_pytorch\\lib\\site-packages\\torch\\nn\\modules\\module.py(516): _slow_forward\n",
      "  E:\\Programs\\Anaconda\\envs\\cuda_pytorch\\lib\\site-packages\\torch\\nn\\modules\\module.py(530): __call__\n",
      "  E:\\Programs\\Anaconda\\envs\\cuda_pytorch\\lib\\site-packages\\torch\\jit\\__init__.py(1034): trace_module\n",
      "  E:\\Programs\\Anaconda\\envs\\cuda_pytorch\\lib\\site-packages\\torch\\jit\\__init__.py(882): trace\n",
      "  E:\\Programs\\Anaconda\\envs\\cuda_pytorch\\lib\\site-packages\\torch\\utils\\tensorboard\\_pytorch_graph.py(285): graph\n",
      "  E:\\Programs\\Anaconda\\envs\\cuda_pytorch\\lib\\site-packages\\torch\\utils\\tensorboard\\writer.py(707): add_graph\n",
      "  <ipython-input-12-6adce9514ce3>(16): <module>\n",
      "  E:\\Programs\\Anaconda\\envs\\cuda_pytorch\\lib\\site-packages\\IPython\\core\\interactiveshell.py(3331): run_code\n",
      "  E:\\Programs\\Anaconda\\envs\\cuda_pytorch\\lib\\site-packages\\IPython\\core\\interactiveshell.py(3254): run_ast_nodes\n",
      "  E:\\Programs\\Anaconda\\envs\\cuda_pytorch\\lib\\site-packages\\IPython\\core\\interactiveshell.py(3063): run_cell_async\n",
      "  E:\\Programs\\Anaconda\\envs\\cuda_pytorch\\lib\\site-packages\\IPython\\core\\async_helpers.py(68): _pseudo_sync_runner\n",
      "  E:\\Programs\\Anaconda\\envs\\cuda_pytorch\\lib\\site-packages\\IPython\\core\\interactiveshell.py(2886): _run_cell\n",
      "  E:\\Programs\\Anaconda\\envs\\cuda_pytorch\\lib\\site-packages\\IPython\\core\\interactiveshell.py(2858): run_cell\n",
      "  E:\\Programs\\Anaconda\\envs\\cuda_pytorch\\lib\\site-packages\\ipykernel\\zmqshell.py(536): run_cell\n",
      "  E:\\Programs\\Anaconda\\envs\\cuda_pytorch\\lib\\site-packages\\ipykernel\\ipkernel.py(300): do_execute\n",
      "  E:\\Programs\\Anaconda\\envs\\cuda_pytorch\\lib\\site-packages\\tornado\\gen.py(209): wrapper\n",
      "  E:\\Programs\\Anaconda\\envs\\cuda_pytorch\\lib\\site-packages\\ipykernel\\kernelbase.py(541): execute_request\n",
      "  E:\\Programs\\Anaconda\\envs\\cuda_pytorch\\lib\\site-packages\\tornado\\gen.py(209): wrapper\n",
      "  E:\\Programs\\Anaconda\\envs\\cuda_pytorch\\lib\\site-packages\\ipykernel\\kernelbase.py(268): dispatch_shell\n",
      "  E:\\Programs\\Anaconda\\envs\\cuda_pytorch\\lib\\site-packages\\tornado\\gen.py(209): wrapper\n",
      "  E:\\Programs\\Anaconda\\envs\\cuda_pytorch\\lib\\site-packages\\ipykernel\\kernelbase.py(361): process_one\n",
      "  E:\\Programs\\Anaconda\\envs\\cuda_pytorch\\lib\\site-packages\\tornado\\gen.py(748): run\n",
      "  E:\\Programs\\Anaconda\\envs\\cuda_pytorch\\lib\\site-packages\\tornado\\gen.py(787): inner\n",
      "  E:\\Programs\\Anaconda\\envs\\cuda_pytorch\\lib\\site-packages\\tornado\\ioloop.py(743): _run_callback\n",
      "  E:\\Programs\\Anaconda\\envs\\cuda_pytorch\\lib\\site-packages\\tornado\\ioloop.py(690): <lambda>\n",
      "  E:\\Programs\\Anaconda\\envs\\cuda_pytorch\\lib\\asyncio\\events.py(145): _run\n",
      "  E:\\Programs\\Anaconda\\envs\\cuda_pytorch\\lib\\asyncio\\base_events.py(1440): _run_once\n",
      "  E:\\Programs\\Anaconda\\envs\\cuda_pytorch\\lib\\asyncio\\base_events.py(427): run_forever\n",
      "  E:\\Programs\\Anaconda\\envs\\cuda_pytorch\\lib\\site-packages\\tornado\\platform\\asyncio.py(148): start\n",
      "  E:\\Programs\\Anaconda\\envs\\cuda_pytorch\\lib\\site-packages\\ipykernel\\kernelapp.py(583): start\n",
      "  E:\\Programs\\Anaconda\\envs\\cuda_pytorch\\lib\\site-packages\\traitlets\\config\\application.py(664): launch_instance\n",
      "  E:\\Programs\\Anaconda\\envs\\cuda_pytorch\\lib\\site-packages\\ipykernel_launcher.py(16): <module>\n",
      "  E:\\Programs\\Anaconda\\envs\\cuda_pytorch\\lib\\runpy.py(85): _run_code\n",
      "  E:\\Programs\\Anaconda\\envs\\cuda_pytorch\\lib\\runpy.py(193): _run_module_as_main\n",
      "\n",
      "Error occurs, No graph saved\n"
     ]
    },
    {
     "ename": "RuntimeError",
     "evalue": "KeyboardInterrupt: \n\nAt:\n  E:\\Programs\\Anaconda\\envs\\cuda_pytorch\\lib\\site-packages\\torch\\jit\\__init__.py(300): _get_interpreter_name_for_var\n  E:\\Programs\\Anaconda\\envs\\cuda_pytorch\\lib\\site-packages\\torch\\nn\\modules\\rnn.py(944): forward\n  E:\\Programs\\Anaconda\\envs\\cuda_pytorch\\lib\\site-packages\\torch\\nn\\modules\\module.py(516): _slow_forward\n  E:\\Programs\\Anaconda\\envs\\cuda_pytorch\\lib\\site-packages\\torch\\nn\\modules\\module.py(530): __call__\n  <ipython-input-2-6ad89cfa314f>(33): forward\n  E:\\Programs\\Anaconda\\envs\\cuda_pytorch\\lib\\site-packages\\torch\\nn\\modules\\module.py(516): _slow_forward\n  E:\\Programs\\Anaconda\\envs\\cuda_pytorch\\lib\\site-packages\\torch\\nn\\modules\\module.py(530): __call__\n  E:\\Programs\\Anaconda\\envs\\cuda_pytorch\\lib\\site-packages\\torch\\jit\\__init__.py(1034): trace_module\n  E:\\Programs\\Anaconda\\envs\\cuda_pytorch\\lib\\site-packages\\torch\\jit\\__init__.py(882): trace\n  E:\\Programs\\Anaconda\\envs\\cuda_pytorch\\lib\\site-packages\\torch\\utils\\tensorboard\\_pytorch_graph.py(285): graph\n  E:\\Programs\\Anaconda\\envs\\cuda_pytorch\\lib\\site-packages\\torch\\utils\\tensorboard\\writer.py(707): add_graph\n  <ipython-input-12-6adce9514ce3>(16): <module>\n  E:\\Programs\\Anaconda\\envs\\cuda_pytorch\\lib\\site-packages\\IPython\\core\\interactiveshell.py(3331): run_code\n  E:\\Programs\\Anaconda\\envs\\cuda_pytorch\\lib\\site-packages\\IPython\\core\\interactiveshell.py(3254): run_ast_nodes\n  E:\\Programs\\Anaconda\\envs\\cuda_pytorch\\lib\\site-packages\\IPython\\core\\interactiveshell.py(3063): run_cell_async\n  E:\\Programs\\Anaconda\\envs\\cuda_pytorch\\lib\\site-packages\\IPython\\core\\async_helpers.py(68): _pseudo_sync_runner\n  E:\\Programs\\Anaconda\\envs\\cuda_pytorch\\lib\\site-packages\\IPython\\core\\interactiveshell.py(2886): _run_cell\n  E:\\Programs\\Anaconda\\envs\\cuda_pytorch\\lib\\site-packages\\IPython\\core\\interactiveshell.py(2858): run_cell\n  E:\\Programs\\Anaconda\\envs\\cuda_pytorch\\lib\\site-packages\\ipykernel\\zmqshell.py(536): run_cell\n  E:\\Programs\\Anaconda\\envs\\cuda_pytorch\\lib\\site-packages\\ipykernel\\ipkernel.py(300): do_execute\n  E:\\Programs\\Anaconda\\envs\\cuda_pytorch\\lib\\site-packages\\tornado\\gen.py(209): wrapper\n  E:\\Programs\\Anaconda\\envs\\cuda_pytorch\\lib\\site-packages\\ipykernel\\kernelbase.py(541): execute_request\n  E:\\Programs\\Anaconda\\envs\\cuda_pytorch\\lib\\site-packages\\tornado\\gen.py(209): wrapper\n  E:\\Programs\\Anaconda\\envs\\cuda_pytorch\\lib\\site-packages\\ipykernel\\kernelbase.py(268): dispatch_shell\n  E:\\Programs\\Anaconda\\envs\\cuda_pytorch\\lib\\site-packages\\tornado\\gen.py(209): wrapper\n  E:\\Programs\\Anaconda\\envs\\cuda_pytorch\\lib\\site-packages\\ipykernel\\kernelbase.py(361): process_one\n  E:\\Programs\\Anaconda\\envs\\cuda_pytorch\\lib\\site-packages\\tornado\\gen.py(748): run\n  E:\\Programs\\Anaconda\\envs\\cuda_pytorch\\lib\\site-packages\\tornado\\gen.py(787): inner\n  E:\\Programs\\Anaconda\\envs\\cuda_pytorch\\lib\\site-packages\\tornado\\ioloop.py(743): _run_callback\n  E:\\Programs\\Anaconda\\envs\\cuda_pytorch\\lib\\site-packages\\tornado\\ioloop.py(690): <lambda>\n  E:\\Programs\\Anaconda\\envs\\cuda_pytorch\\lib\\asyncio\\events.py(145): _run\n  E:\\Programs\\Anaconda\\envs\\cuda_pytorch\\lib\\asyncio\\base_events.py(1440): _run_once\n  E:\\Programs\\Anaconda\\envs\\cuda_pytorch\\lib\\asyncio\\base_events.py(427): run_forever\n  E:\\Programs\\Anaconda\\envs\\cuda_pytorch\\lib\\site-packages\\tornado\\platform\\asyncio.py(148): start\n  E:\\Programs\\Anaconda\\envs\\cuda_pytorch\\lib\\site-packages\\ipykernel\\kernelapp.py(583): start\n  E:\\Programs\\Anaconda\\envs\\cuda_pytorch\\lib\\site-packages\\traitlets\\config\\application.py(664): launch_instance\n  E:\\Programs\\Anaconda\\envs\\cuda_pytorch\\lib\\site-packages\\ipykernel_launcher.py(16): <module>\n  E:\\Programs\\Anaconda\\envs\\cuda_pytorch\\lib\\runpy.py(85): _run_code\n  E:\\Programs\\Anaconda\\envs\\cuda_pytorch\\lib\\runpy.py(193): _run_module_as_main\n",
     "output_type": "error",
     "traceback": [
      "\u001b[1;31m---------------------------------------------------------------------------\u001b[0m",
      "\u001b[1;31mRuntimeError\u001b[0m                              Traceback (most recent call last)",
      "\u001b[1;32m<ipython-input-12-6adce9514ce3>\u001b[0m in \u001b[0;36m<module>\u001b[1;34m\u001b[0m\n\u001b[0;32m     14\u001b[0m         \u001b[0mtrain_loss\u001b[0m \u001b[1;33m+=\u001b[0m \u001b[0mloss\u001b[0m\u001b[1;33m.\u001b[0m\u001b[0mitem\u001b[0m\u001b[1;33m(\u001b[0m\u001b[1;33m)\u001b[0m\u001b[1;33m\u001b[0m\u001b[1;33m\u001b[0m\u001b[0m\n\u001b[0;32m     15\u001b[0m         \u001b[0moptimizer\u001b[0m\u001b[1;33m.\u001b[0m\u001b[0mstep\u001b[0m\u001b[1;33m(\u001b[0m\u001b[1;33m)\u001b[0m\u001b[1;33m\u001b[0m\u001b[1;33m\u001b[0m\u001b[0m\n\u001b[1;32m---> 16\u001b[1;33m         \u001b[0mwriter\u001b[0m\u001b[1;33m.\u001b[0m\u001b[0madd_graph\u001b[0m\u001b[1;33m(\u001b[0m\u001b[0mmodel\u001b[0m\u001b[1;33m,\u001b[0m \u001b[0mseq\u001b[0m\u001b[1;33m)\u001b[0m\u001b[1;33m\u001b[0m\u001b[1;33m\u001b[0m\u001b[0m\n\u001b[0m\u001b[0;32m     17\u001b[0m     \u001b[0mcurrent_epoch\u001b[0m \u001b[1;33m+=\u001b[0m \u001b[1;36m1\u001b[0m\u001b[1;33m\u001b[0m\u001b[1;33m\u001b[0m\u001b[0m\n\u001b[0;32m     18\u001b[0m     \u001b[0mprint\u001b[0m\u001b[1;33m(\u001b[0m\u001b[1;34m'Epoch [{}/{}], train_loss: {:.4f}'\u001b[0m\u001b[1;33m.\u001b[0m\u001b[0mformat\u001b[0m\u001b[1;33m(\u001b[0m\u001b[0mepoch\u001b[0m \u001b[1;33m+\u001b[0m \u001b[1;36m1\u001b[0m\u001b[1;33m,\u001b[0m \u001b[0mnum_epochs\u001b[0m\u001b[1;33m,\u001b[0m \u001b[0mtrain_loss\u001b[0m \u001b[1;33m/\u001b[0m \u001b[0mtotal_step\u001b[0m\u001b[1;33m)\u001b[0m\u001b[1;33m)\u001b[0m\u001b[1;33m\u001b[0m\u001b[1;33m\u001b[0m\u001b[0m\n",
      "\u001b[1;32mE:\\Programs\\Anaconda\\envs\\cuda_pytorch\\lib\\site-packages\\torch\\utils\\tensorboard\\writer.py\u001b[0m in \u001b[0;36madd_graph\u001b[1;34m(self, model, input_to_model, verbose)\u001b[0m\n\u001b[0;32m    705\u001b[0m         \u001b[1;32mif\u001b[0m \u001b[0mhasattr\u001b[0m\u001b[1;33m(\u001b[0m\u001b[0mmodel\u001b[0m\u001b[1;33m,\u001b[0m \u001b[1;34m'forward'\u001b[0m\u001b[1;33m)\u001b[0m\u001b[1;33m:\u001b[0m\u001b[1;33m\u001b[0m\u001b[1;33m\u001b[0m\u001b[0m\n\u001b[0;32m    706\u001b[0m             \u001b[1;31m# A valid PyTorch model should have a 'forward' method\u001b[0m\u001b[1;33m\u001b[0m\u001b[1;33m\u001b[0m\u001b[1;33m\u001b[0m\u001b[0m\n\u001b[1;32m--> 707\u001b[1;33m             \u001b[0mself\u001b[0m\u001b[1;33m.\u001b[0m\u001b[0m_get_file_writer\u001b[0m\u001b[1;33m(\u001b[0m\u001b[1;33m)\u001b[0m\u001b[1;33m.\u001b[0m\u001b[0madd_graph\u001b[0m\u001b[1;33m(\u001b[0m\u001b[0mgraph\u001b[0m\u001b[1;33m(\u001b[0m\u001b[0mmodel\u001b[0m\u001b[1;33m,\u001b[0m \u001b[0minput_to_model\u001b[0m\u001b[1;33m,\u001b[0m \u001b[0mverbose\u001b[0m\u001b[1;33m)\u001b[0m\u001b[1;33m)\u001b[0m\u001b[1;33m\u001b[0m\u001b[1;33m\u001b[0m\u001b[0m\n\u001b[0m\u001b[0;32m    708\u001b[0m         \u001b[1;32melse\u001b[0m\u001b[1;33m:\u001b[0m\u001b[1;33m\u001b[0m\u001b[1;33m\u001b[0m\u001b[0m\n\u001b[0;32m    709\u001b[0m             \u001b[1;31m# Caffe2 models do not have the 'forward' method\u001b[0m\u001b[1;33m\u001b[0m\u001b[1;33m\u001b[0m\u001b[1;33m\u001b[0m\u001b[0m\n",
      "\u001b[1;32mE:\\Programs\\Anaconda\\envs\\cuda_pytorch\\lib\\site-packages\\torch\\utils\\tensorboard\\_pytorch_graph.py\u001b[0m in \u001b[0;36mgraph\u001b[1;34m(model, args, verbose)\u001b[0m\n\u001b[0;32m    289\u001b[0m             \u001b[0mprint\u001b[0m\u001b[1;33m(\u001b[0m\u001b[0me\u001b[0m\u001b[1;33m)\u001b[0m\u001b[1;33m\u001b[0m\u001b[1;33m\u001b[0m\u001b[0m\n\u001b[0;32m    290\u001b[0m             \u001b[0mprint\u001b[0m\u001b[1;33m(\u001b[0m\u001b[1;34m'Error occurs, No graph saved'\u001b[0m\u001b[1;33m)\u001b[0m\u001b[1;33m\u001b[0m\u001b[1;33m\u001b[0m\u001b[0m\n\u001b[1;32m--> 291\u001b[1;33m             \u001b[1;32mraise\u001b[0m \u001b[0me\u001b[0m\u001b[1;33m\u001b[0m\u001b[1;33m\u001b[0m\u001b[0m\n\u001b[0m\u001b[0;32m    292\u001b[0m \u001b[1;33m\u001b[0m\u001b[0m\n\u001b[0;32m    293\u001b[0m     \u001b[1;32mif\u001b[0m \u001b[0mverbose\u001b[0m\u001b[1;33m:\u001b[0m\u001b[1;33m\u001b[0m\u001b[1;33m\u001b[0m\u001b[0m\n",
      "\u001b[1;32mE:\\Programs\\Anaconda\\envs\\cuda_pytorch\\lib\\site-packages\\torch\\utils\\tensorboard\\_pytorch_graph.py\u001b[0m in \u001b[0;36mgraph\u001b[1;34m(model, args, verbose)\u001b[0m\n\u001b[0;32m    283\u001b[0m     \u001b[1;32mwith\u001b[0m \u001b[0mtorch\u001b[0m\u001b[1;33m.\u001b[0m\u001b[0monnx\u001b[0m\u001b[1;33m.\u001b[0m\u001b[0mset_training\u001b[0m\u001b[1;33m(\u001b[0m\u001b[0mmodel\u001b[0m\u001b[1;33m,\u001b[0m \u001b[1;32mFalse\u001b[0m\u001b[1;33m)\u001b[0m\u001b[1;33m:\u001b[0m  \u001b[1;31m# TODO: move outside of torch.onnx?\u001b[0m\u001b[1;33m\u001b[0m\u001b[1;33m\u001b[0m\u001b[0m\n\u001b[0;32m    284\u001b[0m         \u001b[1;32mtry\u001b[0m\u001b[1;33m:\u001b[0m\u001b[1;33m\u001b[0m\u001b[1;33m\u001b[0m\u001b[0m\n\u001b[1;32m--> 285\u001b[1;33m             \u001b[0mtrace\u001b[0m \u001b[1;33m=\u001b[0m \u001b[0mtorch\u001b[0m\u001b[1;33m.\u001b[0m\u001b[0mjit\u001b[0m\u001b[1;33m.\u001b[0m\u001b[0mtrace\u001b[0m\u001b[1;33m(\u001b[0m\u001b[0mmodel\u001b[0m\u001b[1;33m,\u001b[0m \u001b[0margs\u001b[0m\u001b[1;33m)\u001b[0m\u001b[1;33m\u001b[0m\u001b[1;33m\u001b[0m\u001b[0m\n\u001b[0m\u001b[0;32m    286\u001b[0m             \u001b[0mgraph\u001b[0m \u001b[1;33m=\u001b[0m \u001b[0mtrace\u001b[0m\u001b[1;33m.\u001b[0m\u001b[0mgraph\u001b[0m\u001b[1;33m\u001b[0m\u001b[1;33m\u001b[0m\u001b[0m\n\u001b[0;32m    287\u001b[0m             \u001b[0mtorch\u001b[0m\u001b[1;33m.\u001b[0m\u001b[0m_C\u001b[0m\u001b[1;33m.\u001b[0m\u001b[0m_jit_pass_inline\u001b[0m\u001b[1;33m(\u001b[0m\u001b[0mgraph\u001b[0m\u001b[1;33m)\u001b[0m\u001b[1;33m\u001b[0m\u001b[1;33m\u001b[0m\u001b[0m\n",
      "\u001b[1;32mE:\\Programs\\Anaconda\\envs\\cuda_pytorch\\lib\\site-packages\\torch\\jit\\__init__.py\u001b[0m in \u001b[0;36mtrace\u001b[1;34m(func, example_inputs, optimize, check_trace, check_inputs, check_tolerance, _force_outplace, _module_class, _compilation_unit)\u001b[0m\n\u001b[0;32m    880\u001b[0m         return trace_module(func, {'forward': example_inputs}, None,\n\u001b[0;32m    881\u001b[0m                             \u001b[0mcheck_trace\u001b[0m\u001b[1;33m,\u001b[0m \u001b[0mwrap_check_inputs\u001b[0m\u001b[1;33m(\u001b[0m\u001b[0mcheck_inputs\u001b[0m\u001b[1;33m)\u001b[0m\u001b[1;33m,\u001b[0m\u001b[1;33m\u001b[0m\u001b[1;33m\u001b[0m\u001b[0m\n\u001b[1;32m--> 882\u001b[1;33m                             check_tolerance, _force_outplace, _module_class)\n\u001b[0m\u001b[0;32m    883\u001b[0m \u001b[1;33m\u001b[0m\u001b[0m\n\u001b[0;32m    884\u001b[0m     if (hasattr(func, '__self__') and isinstance(func.__self__, torch.nn.Module) and\n",
      "\u001b[1;32mE:\\Programs\\Anaconda\\envs\\cuda_pytorch\\lib\\site-packages\\torch\\jit\\__init__.py\u001b[0m in \u001b[0;36mtrace_module\u001b[1;34m(mod, inputs, optimize, check_trace, check_inputs, check_tolerance, _force_outplace, _module_class, _compilation_unit)\u001b[0m\n\u001b[0;32m   1032\u001b[0m             \u001b[0mfunc\u001b[0m \u001b[1;33m=\u001b[0m \u001b[0mmod\u001b[0m \u001b[1;32mif\u001b[0m \u001b[0mmethod_name\u001b[0m \u001b[1;33m==\u001b[0m \u001b[1;34m\"forward\"\u001b[0m \u001b[1;32melse\u001b[0m \u001b[0mgetattr\u001b[0m\u001b[1;33m(\u001b[0m\u001b[0mmod\u001b[0m\u001b[1;33m,\u001b[0m \u001b[0mmethod_name\u001b[0m\u001b[1;33m)\u001b[0m\u001b[1;33m\u001b[0m\u001b[1;33m\u001b[0m\u001b[0m\n\u001b[0;32m   1033\u001b[0m             \u001b[0mexample_inputs\u001b[0m \u001b[1;33m=\u001b[0m \u001b[0mmake_tuple\u001b[0m\u001b[1;33m(\u001b[0m\u001b[0mexample_inputs\u001b[0m\u001b[1;33m)\u001b[0m\u001b[1;33m\u001b[0m\u001b[1;33m\u001b[0m\u001b[0m\n\u001b[1;32m-> 1034\u001b[1;33m             \u001b[0mmodule\u001b[0m\u001b[1;33m.\u001b[0m\u001b[0m_c\u001b[0m\u001b[1;33m.\u001b[0m\u001b[0m_create_method_from_trace\u001b[0m\u001b[1;33m(\u001b[0m\u001b[0mmethod_name\u001b[0m\u001b[1;33m,\u001b[0m \u001b[0mfunc\u001b[0m\u001b[1;33m,\u001b[0m \u001b[0mexample_inputs\u001b[0m\u001b[1;33m,\u001b[0m \u001b[0mvar_lookup_fn\u001b[0m\u001b[1;33m,\u001b[0m \u001b[0m_force_outplace\u001b[0m\u001b[1;33m)\u001b[0m\u001b[1;33m\u001b[0m\u001b[1;33m\u001b[0m\u001b[0m\n\u001b[0m\u001b[0;32m   1035\u001b[0m             \u001b[0mcheck_trace_method\u001b[0m \u001b[1;33m=\u001b[0m \u001b[0mmodule\u001b[0m\u001b[1;33m.\u001b[0m\u001b[0m_c\u001b[0m\u001b[1;33m.\u001b[0m\u001b[0m_get_method\u001b[0m\u001b[1;33m(\u001b[0m\u001b[0mmethod_name\u001b[0m\u001b[1;33m)\u001b[0m\u001b[1;33m\u001b[0m\u001b[1;33m\u001b[0m\u001b[0m\n\u001b[0;32m   1036\u001b[0m \u001b[1;33m\u001b[0m\u001b[0m\n",
      "\u001b[1;32mE:\\Programs\\Anaconda\\envs\\cuda_pytorch\\lib\\site-packages\\torch\\nn\\modules\\module.py\u001b[0m in \u001b[0;36m__call__\u001b[1;34m(self, *input, **kwargs)\u001b[0m\n\u001b[0;32m    528\u001b[0m                 \u001b[0minput\u001b[0m \u001b[1;33m=\u001b[0m \u001b[0mresult\u001b[0m\u001b[1;33m\u001b[0m\u001b[1;33m\u001b[0m\u001b[0m\n\u001b[0;32m    529\u001b[0m         \u001b[1;32mif\u001b[0m \u001b[0mtorch\u001b[0m\u001b[1;33m.\u001b[0m\u001b[0m_C\u001b[0m\u001b[1;33m.\u001b[0m\u001b[0m_get_tracing_state\u001b[0m\u001b[1;33m(\u001b[0m\u001b[1;33m)\u001b[0m\u001b[1;33m:\u001b[0m\u001b[1;33m\u001b[0m\u001b[1;33m\u001b[0m\u001b[0m\n\u001b[1;32m--> 530\u001b[1;33m             \u001b[0mresult\u001b[0m \u001b[1;33m=\u001b[0m \u001b[0mself\u001b[0m\u001b[1;33m.\u001b[0m\u001b[0m_slow_forward\u001b[0m\u001b[1;33m(\u001b[0m\u001b[1;33m*\u001b[0m\u001b[0minput\u001b[0m\u001b[1;33m,\u001b[0m \u001b[1;33m**\u001b[0m\u001b[0mkwargs\u001b[0m\u001b[1;33m)\u001b[0m\u001b[1;33m\u001b[0m\u001b[1;33m\u001b[0m\u001b[0m\n\u001b[0m\u001b[0;32m    531\u001b[0m         \u001b[1;32melse\u001b[0m\u001b[1;33m:\u001b[0m\u001b[1;33m\u001b[0m\u001b[1;33m\u001b[0m\u001b[0m\n\u001b[0;32m    532\u001b[0m             \u001b[0mresult\u001b[0m \u001b[1;33m=\u001b[0m \u001b[0mself\u001b[0m\u001b[1;33m.\u001b[0m\u001b[0mforward\u001b[0m\u001b[1;33m(\u001b[0m\u001b[1;33m*\u001b[0m\u001b[0minput\u001b[0m\u001b[1;33m,\u001b[0m \u001b[1;33m**\u001b[0m\u001b[0mkwargs\u001b[0m\u001b[1;33m)\u001b[0m\u001b[1;33m\u001b[0m\u001b[1;33m\u001b[0m\u001b[0m\n",
      "\u001b[1;32mE:\\Programs\\Anaconda\\envs\\cuda_pytorch\\lib\\site-packages\\torch\\nn\\modules\\module.py\u001b[0m in \u001b[0;36m_slow_forward\u001b[1;34m(self, *input, **kwargs)\u001b[0m\n\u001b[0;32m    514\u001b[0m                 \u001b[0mrecording_scopes\u001b[0m \u001b[1;33m=\u001b[0m \u001b[1;32mFalse\u001b[0m\u001b[1;33m\u001b[0m\u001b[1;33m\u001b[0m\u001b[0m\n\u001b[0;32m    515\u001b[0m         \u001b[1;32mtry\u001b[0m\u001b[1;33m:\u001b[0m\u001b[1;33m\u001b[0m\u001b[1;33m\u001b[0m\u001b[0m\n\u001b[1;32m--> 516\u001b[1;33m             \u001b[0mresult\u001b[0m \u001b[1;33m=\u001b[0m \u001b[0mself\u001b[0m\u001b[1;33m.\u001b[0m\u001b[0mforward\u001b[0m\u001b[1;33m(\u001b[0m\u001b[1;33m*\u001b[0m\u001b[0minput\u001b[0m\u001b[1;33m,\u001b[0m \u001b[1;33m**\u001b[0m\u001b[0mkwargs\u001b[0m\u001b[1;33m)\u001b[0m\u001b[1;33m\u001b[0m\u001b[1;33m\u001b[0m\u001b[0m\n\u001b[0m\u001b[0;32m    517\u001b[0m         \u001b[1;32mfinally\u001b[0m\u001b[1;33m:\u001b[0m\u001b[1;33m\u001b[0m\u001b[1;33m\u001b[0m\u001b[0m\n\u001b[0;32m    518\u001b[0m             \u001b[1;32mif\u001b[0m \u001b[0mrecording_scopes\u001b[0m\u001b[1;33m:\u001b[0m\u001b[1;33m\u001b[0m\u001b[1;33m\u001b[0m\u001b[0m\n",
      "\u001b[1;32m<ipython-input-2-6ad89cfa314f>\u001b[0m in \u001b[0;36mforward\u001b[1;34m(self, x)\u001b[0m\n\u001b[0;32m     31\u001b[0m         \u001b[0mc1\u001b[0m \u001b[1;33m=\u001b[0m \u001b[0mtorch\u001b[0m\u001b[1;33m.\u001b[0m\u001b[0mzeros\u001b[0m\u001b[1;33m(\u001b[0m\u001b[0mx\u001b[0m\u001b[1;33m.\u001b[0m\u001b[0msize\u001b[0m\u001b[1;33m(\u001b[0m\u001b[1;36m1\u001b[0m\u001b[1;33m)\u001b[0m\u001b[1;33m,\u001b[0m \u001b[0mself\u001b[0m\u001b[1;33m.\u001b[0m\u001b[0mhidden_size\u001b[0m\u001b[1;33m)\u001b[0m\u001b[1;33m.\u001b[0m\u001b[0mto\u001b[0m\u001b[1;33m(\u001b[0m\u001b[0mdevice\u001b[0m\u001b[1;33m)\u001b[0m\u001b[1;33m\u001b[0m\u001b[1;33m\u001b[0m\u001b[0m\n\u001b[0;32m     32\u001b[0m         \u001b[1;32mfor\u001b[0m \u001b[0mxt\u001b[0m \u001b[1;32min\u001b[0m \u001b[0mx\u001b[0m\u001b[1;33m:\u001b[0m\u001b[1;33m\u001b[0m\u001b[1;33m\u001b[0m\u001b[0m\n\u001b[1;32m---> 33\u001b[1;33m             \u001b[0mh0\u001b[0m\u001b[1;33m,\u001b[0m \u001b[0mc0\u001b[0m \u001b[1;33m=\u001b[0m \u001b[0mself\u001b[0m\u001b[1;33m.\u001b[0m\u001b[0mcell_0\u001b[0m\u001b[1;33m(\u001b[0m\u001b[0mxt\u001b[0m\u001b[1;33m,\u001b[0m \u001b[1;33m(\u001b[0m\u001b[0mh0\u001b[0m\u001b[1;33m,\u001b[0m \u001b[0mc0\u001b[0m\u001b[1;33m)\u001b[0m\u001b[1;33m)\u001b[0m  \u001b[1;31m# l0层直接接受xt输入\u001b[0m\u001b[1;33m\u001b[0m\u001b[1;33m\u001b[0m\u001b[0m\n\u001b[0m\u001b[0;32m     34\u001b[0m             \u001b[0mh1\u001b[0m\u001b[1;33m,\u001b[0m \u001b[0mc1\u001b[0m \u001b[1;33m=\u001b[0m \u001b[0mself\u001b[0m\u001b[1;33m.\u001b[0m\u001b[0mcell_1\u001b[0m\u001b[1;33m(\u001b[0m\u001b[0mh0\u001b[0m\u001b[1;33m,\u001b[0m \u001b[1;33m(\u001b[0m\u001b[0mh1\u001b[0m\u001b[1;33m,\u001b[0m \u001b[0mc1\u001b[0m\u001b[1;33m)\u001b[0m\u001b[1;33m)\u001b[0m  \u001b[1;31m# l1层接受l0层的输出h为输入\u001b[0m\u001b[1;33m\u001b[0m\u001b[1;33m\u001b[0m\u001b[0m\n\u001b[0;32m     35\u001b[0m \u001b[1;33m\u001b[0m\u001b[0m\n",
      "\u001b[1;32mE:\\Programs\\Anaconda\\envs\\cuda_pytorch\\lib\\site-packages\\torch\\nn\\modules\\module.py\u001b[0m in \u001b[0;36m__call__\u001b[1;34m(self, *input, **kwargs)\u001b[0m\n\u001b[0;32m    528\u001b[0m                 \u001b[0minput\u001b[0m \u001b[1;33m=\u001b[0m \u001b[0mresult\u001b[0m\u001b[1;33m\u001b[0m\u001b[1;33m\u001b[0m\u001b[0m\n\u001b[0;32m    529\u001b[0m         \u001b[1;32mif\u001b[0m \u001b[0mtorch\u001b[0m\u001b[1;33m.\u001b[0m\u001b[0m_C\u001b[0m\u001b[1;33m.\u001b[0m\u001b[0m_get_tracing_state\u001b[0m\u001b[1;33m(\u001b[0m\u001b[1;33m)\u001b[0m\u001b[1;33m:\u001b[0m\u001b[1;33m\u001b[0m\u001b[1;33m\u001b[0m\u001b[0m\n\u001b[1;32m--> 530\u001b[1;33m             \u001b[0mresult\u001b[0m \u001b[1;33m=\u001b[0m \u001b[0mself\u001b[0m\u001b[1;33m.\u001b[0m\u001b[0m_slow_forward\u001b[0m\u001b[1;33m(\u001b[0m\u001b[1;33m*\u001b[0m\u001b[0minput\u001b[0m\u001b[1;33m,\u001b[0m \u001b[1;33m**\u001b[0m\u001b[0mkwargs\u001b[0m\u001b[1;33m)\u001b[0m\u001b[1;33m\u001b[0m\u001b[1;33m\u001b[0m\u001b[0m\n\u001b[0m\u001b[0;32m    531\u001b[0m         \u001b[1;32melse\u001b[0m\u001b[1;33m:\u001b[0m\u001b[1;33m\u001b[0m\u001b[1;33m\u001b[0m\u001b[0m\n\u001b[0;32m    532\u001b[0m             \u001b[0mresult\u001b[0m \u001b[1;33m=\u001b[0m \u001b[0mself\u001b[0m\u001b[1;33m.\u001b[0m\u001b[0mforward\u001b[0m\u001b[1;33m(\u001b[0m\u001b[1;33m*\u001b[0m\u001b[0minput\u001b[0m\u001b[1;33m,\u001b[0m \u001b[1;33m**\u001b[0m\u001b[0mkwargs\u001b[0m\u001b[1;33m)\u001b[0m\u001b[1;33m\u001b[0m\u001b[1;33m\u001b[0m\u001b[0m\n",
      "\u001b[1;32mE:\\Programs\\Anaconda\\envs\\cuda_pytorch\\lib\\site-packages\\torch\\nn\\modules\\module.py\u001b[0m in \u001b[0;36m_slow_forward\u001b[1;34m(self, *input, **kwargs)\u001b[0m\n\u001b[0;32m    514\u001b[0m                 \u001b[0mrecording_scopes\u001b[0m \u001b[1;33m=\u001b[0m \u001b[1;32mFalse\u001b[0m\u001b[1;33m\u001b[0m\u001b[1;33m\u001b[0m\u001b[0m\n\u001b[0;32m    515\u001b[0m         \u001b[1;32mtry\u001b[0m\u001b[1;33m:\u001b[0m\u001b[1;33m\u001b[0m\u001b[1;33m\u001b[0m\u001b[0m\n\u001b[1;32m--> 516\u001b[1;33m             \u001b[0mresult\u001b[0m \u001b[1;33m=\u001b[0m \u001b[0mself\u001b[0m\u001b[1;33m.\u001b[0m\u001b[0mforward\u001b[0m\u001b[1;33m(\u001b[0m\u001b[1;33m*\u001b[0m\u001b[0minput\u001b[0m\u001b[1;33m,\u001b[0m \u001b[1;33m**\u001b[0m\u001b[0mkwargs\u001b[0m\u001b[1;33m)\u001b[0m\u001b[1;33m\u001b[0m\u001b[1;33m\u001b[0m\u001b[0m\n\u001b[0m\u001b[0;32m    517\u001b[0m         \u001b[1;32mfinally\u001b[0m\u001b[1;33m:\u001b[0m\u001b[1;33m\u001b[0m\u001b[1;33m\u001b[0m\u001b[0m\n\u001b[0;32m    518\u001b[0m             \u001b[1;32mif\u001b[0m \u001b[0mrecording_scopes\u001b[0m\u001b[1;33m:\u001b[0m\u001b[1;33m\u001b[0m\u001b[1;33m\u001b[0m\u001b[0m\n",
      "\u001b[1;32mE:\\Programs\\Anaconda\\envs\\cuda_pytorch\\lib\\site-packages\\torch\\nn\\modules\\rnn.py\u001b[0m in \u001b[0;36mforward\u001b[1;34m(self, input, hx)\u001b[0m\n\u001b[0;32m    942\u001b[0m             \u001b[0minput\u001b[0m\u001b[1;33m,\u001b[0m \u001b[0mhx\u001b[0m\u001b[1;33m,\u001b[0m\u001b[1;33m\u001b[0m\u001b[1;33m\u001b[0m\u001b[0m\n\u001b[0;32m    943\u001b[0m             \u001b[0mself\u001b[0m\u001b[1;33m.\u001b[0m\u001b[0mweight_ih\u001b[0m\u001b[1;33m,\u001b[0m \u001b[0mself\u001b[0m\u001b[1;33m.\u001b[0m\u001b[0mweight_hh\u001b[0m\u001b[1;33m,\u001b[0m\u001b[1;33m\u001b[0m\u001b[1;33m\u001b[0m\u001b[0m\n\u001b[1;32m--> 944\u001b[1;33m             \u001b[0mself\u001b[0m\u001b[1;33m.\u001b[0m\u001b[0mbias_ih\u001b[0m\u001b[1;33m,\u001b[0m \u001b[0mself\u001b[0m\u001b[1;33m.\u001b[0m\u001b[0mbias_hh\u001b[0m\u001b[1;33m,\u001b[0m\u001b[1;33m\u001b[0m\u001b[1;33m\u001b[0m\u001b[0m\n\u001b[0m\u001b[0;32m    945\u001b[0m         )\n\u001b[0;32m    946\u001b[0m \u001b[1;33m\u001b[0m\u001b[0m\n",
      "\u001b[1;31mRuntimeError\u001b[0m: KeyboardInterrupt: \n\nAt:\n  E:\\Programs\\Anaconda\\envs\\cuda_pytorch\\lib\\site-packages\\torch\\jit\\__init__.py(300): _get_interpreter_name_for_var\n  E:\\Programs\\Anaconda\\envs\\cuda_pytorch\\lib\\site-packages\\torch\\nn\\modules\\rnn.py(944): forward\n  E:\\Programs\\Anaconda\\envs\\cuda_pytorch\\lib\\site-packages\\torch\\nn\\modules\\module.py(516): _slow_forward\n  E:\\Programs\\Anaconda\\envs\\cuda_pytorch\\lib\\site-packages\\torch\\nn\\modules\\module.py(530): __call__\n  <ipython-input-2-6ad89cfa314f>(33): forward\n  E:\\Programs\\Anaconda\\envs\\cuda_pytorch\\lib\\site-packages\\torch\\nn\\modules\\module.py(516): _slow_forward\n  E:\\Programs\\Anaconda\\envs\\cuda_pytorch\\lib\\site-packages\\torch\\nn\\modules\\module.py(530): __call__\n  E:\\Programs\\Anaconda\\envs\\cuda_pytorch\\lib\\site-packages\\torch\\jit\\__init__.py(1034): trace_module\n  E:\\Programs\\Anaconda\\envs\\cuda_pytorch\\lib\\site-packages\\torch\\jit\\__init__.py(882): trace\n  E:\\Programs\\Anaconda\\envs\\cuda_pytorch\\lib\\site-packages\\torch\\utils\\tensorboard\\_pytorch_graph.py(285): graph\n  E:\\Programs\\Anaconda\\envs\\cuda_pytorch\\lib\\site-packages\\torch\\utils\\tensorboard\\writer.py(707): add_graph\n  <ipython-input-12-6adce9514ce3>(16): <module>\n  E:\\Programs\\Anaconda\\envs\\cuda_pytorch\\lib\\site-packages\\IPython\\core\\interactiveshell.py(3331): run_code\n  E:\\Programs\\Anaconda\\envs\\cuda_pytorch\\lib\\site-packages\\IPython\\core\\interactiveshell.py(3254): run_ast_nodes\n  E:\\Programs\\Anaconda\\envs\\cuda_pytorch\\lib\\site-packages\\IPython\\core\\interactiveshell.py(3063): run_cell_async\n  E:\\Programs\\Anaconda\\envs\\cuda_pytorch\\lib\\site-packages\\IPython\\core\\async_helpers.py(68): _pseudo_sync_runner\n  E:\\Programs\\Anaconda\\envs\\cuda_pytorch\\lib\\site-packages\\IPython\\core\\interactiveshell.py(2886): _run_cell\n  E:\\Programs\\Anaconda\\envs\\cuda_pytorch\\lib\\site-packages\\IPython\\core\\interactiveshell.py(2858): run_cell\n  E:\\Programs\\Anaconda\\envs\\cuda_pytorch\\lib\\site-packages\\ipykernel\\zmqshell.py(536): run_cell\n  E:\\Programs\\Anaconda\\envs\\cuda_pytorch\\lib\\site-packages\\ipykernel\\ipkernel.py(300): do_execute\n  E:\\Programs\\Anaconda\\envs\\cuda_pytorch\\lib\\site-packages\\tornado\\gen.py(209): wrapper\n  E:\\Programs\\Anaconda\\envs\\cuda_pytorch\\lib\\site-packages\\ipykernel\\kernelbase.py(541): execute_request\n  E:\\Programs\\Anaconda\\envs\\cuda_pytorch\\lib\\site-packages\\tornado\\gen.py(209): wrapper\n  E:\\Programs\\Anaconda\\envs\\cuda_pytorch\\lib\\site-packages\\ipykernel\\kernelbase.py(268): dispatch_shell\n  E:\\Programs\\Anaconda\\envs\\cuda_pytorch\\lib\\site-packages\\tornado\\gen.py(209): wrapper\n  E:\\Programs\\Anaconda\\envs\\cuda_pytorch\\lib\\site-packages\\ipykernel\\kernelbase.py(361): process_one\n  E:\\Programs\\Anaconda\\envs\\cuda_pytorch\\lib\\site-packages\\tornado\\gen.py(748): run\n  E:\\Programs\\Anaconda\\envs\\cuda_pytorch\\lib\\site-packages\\tornado\\gen.py(787): inner\n  E:\\Programs\\Anaconda\\envs\\cuda_pytorch\\lib\\site-packages\\tornado\\ioloop.py(743): _run_callback\n  E:\\Programs\\Anaconda\\envs\\cuda_pytorch\\lib\\site-packages\\tornado\\ioloop.py(690): <lambda>\n  E:\\Programs\\Anaconda\\envs\\cuda_pytorch\\lib\\asyncio\\events.py(145): _run\n  E:\\Programs\\Anaconda\\envs\\cuda_pytorch\\lib\\asyncio\\base_events.py(1440): _run_once\n  E:\\Programs\\Anaconda\\envs\\cuda_pytorch\\lib\\asyncio\\base_events.py(427): run_forever\n  E:\\Programs\\Anaconda\\envs\\cuda_pytorch\\lib\\site-packages\\tornado\\platform\\asyncio.py(148): start\n  E:\\Programs\\Anaconda\\envs\\cuda_pytorch\\lib\\site-packages\\ipykernel\\kernelapp.py(583): start\n  E:\\Programs\\Anaconda\\envs\\cuda_pytorch\\lib\\site-packages\\traitlets\\config\\application.py(664): launch_instance\n  E:\\Programs\\Anaconda\\envs\\cuda_pytorch\\lib\\site-packages\\ipykernel_launcher.py(16): <module>\n  E:\\Programs\\Anaconda\\envs\\cuda_pytorch\\lib\\runpy.py(85): _run_code\n  E:\\Programs\\Anaconda\\envs\\cuda_pytorch\\lib\\runpy.py(193): _run_module_as_main\n"
     ]
    }
   ],
   "source": [
    "start_time = time.time()\n",
    "\n",
    "for epoch in range(current_epoch,current_epoch+num_epochs):  # Loop over the dataset multiple times\n",
    "    train_loss = 0\n",
    "    for step, (seq, label) in enumerate(dataloader):\n",
    "        # Forward pass\n",
    "        seq = seq.clone().detach().view(-1, window_size, input_size).permute(1,0,2).to(device)\n",
    "        output = model(seq)\n",
    "        loss = criterion(output, label.to(device))\n",
    "\n",
    "        # Backward and optimize\n",
    "        optimizer.zero_grad()\n",
    "        loss.backward()\n",
    "        train_loss += loss.item()\n",
    "        optimizer.step()\n",
    "        writer.add_graph(model, seq)\n",
    "    current_epoch += 1\n",
    "    print('Epoch [{}/{}], train_loss: {:.4f}'.format(epoch + 1, num_epochs, train_loss / total_step))\n",
    "    writer.add_scalar('train_loss', train_loss / total_step, epoch + 1)\n",
    "elapsed_time = time.time() - start_time\n",
    "print('elapsed_time: {:.3f}s'.format(elapsed_time))"
   ]
  },
  {
   "cell_type": "code",
   "execution_count": 14,
   "metadata": {},
   "outputs": [
    {
     "name": "stdout",
     "output_type": "stream",
     "text": [
      "Finished Training\n"
     ]
    }
   ],
   "source": [
    "if not os.path.isdir(model_dir):\n",
    "    os.makedirs(model_dir)\n",
    "torch.save(model.state_dict(), model_dir + '/' + log + '.pt')\n",
    "writer.close()\n",
    "print('Finished Training')"
   ]
  },
  {
   "cell_type": "code",
   "execution_count": 10,
   "metadata": {},
   "outputs": [],
   "source": [
    "def generate_test_data(name):\n",
    "    hdfs = set()\n",
    "    # hdfs = []\n",
    "    with open('data/' + name, 'r') as f:\n",
    "        for ln in f.readlines():\n",
    "            ln = list(map(lambda n: n - 1, map(int, ln.strip().split())))\n",
    "            ln = ln + [-1] * (window_size + 1 - len(ln))\n",
    "            hdfs.add(tuple(ln))\n",
    "            # hdfs.append(tuple(ln))\n",
    "    session_to_seq = []\n",
    "    seqs = []\n",
    "    labels = []\n",
    "    seq_count = 0\n",
    "    for line in tqdm(hdfs, \"normal:\"):\n",
    "        session = []\n",
    "        for i in range(len(line) - window_size):\n",
    "            seq = line[i:i + window_size]\n",
    "            label = line[i + window_size]\n",
    "            seqs.append(seq)\n",
    "            session.append(seq_count)\n",
    "            labels.append(label)\n",
    "            seq_count+=1\n",
    "        session_to_seq.append(session)\n",
    "    print('Number of sessions({}): {}'.format(name, len(session_to_seq)))\n",
    "    print('Number of seqs({}): {}'.format(name, len(seqs)))\n",
    "    dataset = TensorDataset(torch.tensor(seqs, dtype=torch.float), torch.tensor(labels))\n",
    "\n",
    "    # print('Number of sessions({}): {}'.format(name, len(hdfs)))\n",
    "    return session_to_seq,dataset"
   ]
  },
  {
   "cell_type": "code",
   "execution_count": 55,
   "metadata": {},
   "outputs": [],
   "source": [
    "# model.eval()\n",
    "# print('model_path: {}'.format(model_path))\n",
    "batch_size = 10000\n",
    "# test_normal_session,test_normal_dataset = generate_test_data('hdfs_test_normal')\n",
    "normal_dataloader = DataLoader(test_normal_dataset, batch_size=batch_size, shuffle=False, pin_memory=True)\n",
    "# test_abnormal_session,test_abnormal_dataset = generate_test_data('hdfs_test_abnormal')\n",
    "abnormal_dataloader = DataLoader(test_abnormal_dataset, batch_size=batch_size, shuffle=False, pin_memory=True)"
   ]
  },
  {
   "cell_type": "code",
   "execution_count": null,
   "metadata": {},
   "outputs": [
    {
     "name": "stderr",
     "output_type": "stream",
     "text": [
      "normal: 14it [00:21,  1.55s/it]"
     ]
    }
   ],
   "source": [
    "TP = 0\n",
    "num_candidates = 5\n",
    "# Test the model\n",
    "start_time = time.time()\n",
    "result = []\n",
    "with torch.no_grad():\n",
    "    for step, (seq, labels) in tqdm(enumerate(normal_dataloader),desc='normal'):\n",
    "        seq = seq.clone().detach().view(-1, window_size, input_size).permute(1,0,2).to(device)\n",
    "        output = model(seq).cpu()\n",
    "\n",
    "        predicted = torch.argsort(output, 1)[:,-num_candidates:]\n",
    "        for i,label in enumerate(labels):\n",
    "            if label not in predicted[i]:\n",
    "                result.append(True)\n",
    "            else:\n",
    "                result.append(False)\n",
    "FP=0\n",
    "for session in test_normal_session:\n",
    "    for seq in session:\n",
    "        if result[seq]==True:\n",
    "#             print(session)\n",
    "            FP+=1\n",
    "            break\n",
    "result = []\n",
    "TP = 0\n",
    "with torch.no_grad():\n",
    "    for step, (seq, labels) in tqdm(enumerate(abnormal_dataloader),desc='normal'):\n",
    "        seq = seq.clone().detach().view(-1, window_size, input_size).permute(1,0,2).to(device)\n",
    "        output = model(seq).cpu()\n",
    "\n",
    "        predicted = torch.argsort(output, 1)[:,-num_candidates:]\n",
    "        for i,label in enumerate(labels):\n",
    "            if label not in predicted[i]:\n",
    "                result.append(True)\n",
    "            else:\n",
    "                result.append(False)\n",
    "for session in test_abnormal_session:\n",
    "    for seq in session:\n",
    "        if result[seq]==True:\n",
    "#             print(session)\n",
    "            TP+=1\n",
    "            break"
   ]
  },
  {
   "cell_type": "code",
   "execution_count": 53,
   "metadata": {},
   "outputs": [
    {
     "name": "stdout",
     "output_type": "stream",
     "text": [
      "false positive (FP): 1124, false negative (FN): 45, Precision: 78.393%, Recall: 98.909%, F1-measure: 87.464%\n",
      "Finished Predicting\n"
     ]
    }
   ],
   "source": [
    "FN = len(test_abnormal_session) - TP\n",
    "P = 100 * TP / (TP + FP)\n",
    "R = 100 * TP / (TP + FN)\n",
    "F1 = 2 * P * R / (P + R)\n",
    "print('false positive (FP): {}, false negative (FN): {}, Precision: {:.3f}%, Recall: {:.3f}%, F1-measure: {:.3f}%'.format(FP, FN, P, R, F1))\n",
    "print('Finished Predicting')"
   ]
  },
  {
   "cell_type": "code",
   "execution_count": 54,
   "metadata": {},
   "outputs": [
    {
     "data": {
      "text/plain": [
       "80185"
      ]
     },
     "execution_count": 54,
     "metadata": {},
     "output_type": "execute_result"
    }
   ],
   "source": [
    "len(result)"
   ]
  },
  {
   "cell_type": "code",
   "execution_count": 46,
   "metadata": {},
   "outputs": [
    {
     "data": {
      "text/plain": [
       "1124"
      ]
     },
     "execution_count": 46,
     "metadata": {},
     "output_type": "execute_result"
    }
   ],
   "source": [
    "FP"
   ]
  },
  {
   "cell_type": "code",
   "execution_count": null,
   "metadata": {},
   "outputs": [],
   "source": [
    "TP=0\n",
    "for session in test_normal_session:\n",
    "    for seq in session:\n",
    "        if result[seq]==True:\n",
    "            FP+=1\n",
    "            break"
   ]
  },
  {
   "cell_type": "code",
   "execution_count": 33,
   "metadata": {},
   "outputs": [],
   "source": [
    "predict = torch.argsort(output, 1)[:,-num_candidates:]"
   ]
  },
  {
   "cell_type": "code",
   "execution_count": 34,
   "metadata": {},
   "outputs": [
    {
     "data": {
      "text/plain": [
       "tensor([[15,  1, 22,  2,  3],\n",
       "        [21,  1, 22,  2,  3],\n",
       "        [20,  3,  2,  1, 22],\n",
       "        ...,\n",
       "        [15,  1, 22,  3,  2],\n",
       "        [ 3,  2, 10,  8, 25],\n",
       "        [21,  1, 22,  2,  3]])"
      ]
     },
     "execution_count": 34,
     "metadata": {},
     "output_type": "execute_result"
    }
   ],
   "source": [
    "predict"
   ]
  },
  {
   "cell_type": "code",
   "execution_count": 32,
   "metadata": {},
   "outputs": [
    {
     "name": "stdout",
     "output_type": "stream",
     "text": [
      "tensor([15,  1, 22,  2,  3]) tensor(3)\n",
      "tensor([21,  1, 22,  2,  3]) tensor(3)\n",
      "tensor([20,  3,  2,  1, 22]) tensor(22)\n",
      "tensor([17,  1,  3,  2, 22]) tensor(22)\n",
      "tensor([ 5,  2,  4, 10,  8]) tensor(8)\n",
      "tensor([21,  1, 22,  2,  3]) tensor(3)\n",
      "tensor([ 4,  5, 25, 10,  8]) tensor(8)\n",
      "tensor([15,  1, 22,  2,  3]) tensor(3)\n",
      "tensor([ 4,  2,  3, 22, 20]) tensor(20)\n",
      "tensor([ 3,  2,  8, 25, 10]) tensor(10)\n"
     ]
    }
   ],
   "source": [
    "for i in range(10):\n",
    "    print(predict[i][-num_candidates:],end=' ')\n",
    "    print(labels[i])"
   ]
  },
  {
   "cell_type": "code",
   "execution_count": 21,
   "metadata": {},
   "outputs": [
    {
     "data": {
      "text/plain": [
       "[241197,\n",
       " 241198,\n",
       " 241199,\n",
       " 241200,\n",
       " 241201,\n",
       " 241202,\n",
       " 241203,\n",
       " 241204,\n",
       " 241205,\n",
       " 241206,\n",
       " 241207,\n",
       " 241208,\n",
       " 241209,\n",
       " 241210,\n",
       " 241211,\n",
       " 241212,\n",
       " 241213,\n",
       " 241214,\n",
       " 241215]"
      ]
     },
     "execution_count": 21,
     "metadata": {},
     "output_type": "execute_result"
    }
   ],
   "source": [
    "test_normal_session[-1]"
   ]
  },
  {
   "cell_type": "code",
   "execution_count": 13,
   "metadata": {},
   "outputs": [
    {
     "name": "stderr",
     "output_type": "stream",
     "text": [
      "normal: 100%|██████████████████████████████████████████████████████████████████| 14177/14177 [1:10:17<00:00,  3.36it/s]\n",
      "abnormal: 100%|████████████████████████████████████████████████████████████████████| 4123/4123 [11:17<00:00,  6.08it/s]"
     ]
    },
    {
     "name": "stdout",
     "output_type": "stream",
     "text": [
      "elapsed_time: 4895.443s\n",
      "false positive (FP): 1124, false negative (FN): 45, Precision: 78.393%, Recall: 98.909%, F1-measure: 87.464%\n",
      "Finished Predicting\n"
     ]
    },
    {
     "name": "stderr",
     "output_type": "stream",
     "text": [
      "\n"
     ]
    }
   ],
   "source": [
    "TP = 0\n",
    "FP = 0\n",
    "num_candidates = 5\n",
    "# Test the model\n",
    "start_time = time.time()\n",
    "with torch.no_grad():\n",
    "    for line in tqdm(test_normal_loader,\"normal\"):\n",
    "        for i in range(len(line) - window_size):\n",
    "            seq = line[i:i + window_size]\n",
    "            label = line[i + window_size]\n",
    "            seq = torch.tensor(seq, dtype=torch.float).view(-1, window_size, input_size).permute(1,0,2).to(device)\n",
    "            label = torch.tensor(label).view(-1).to(device)\n",
    "            output = model(seq)\n",
    "            predicted = torch.argsort(output, 1)[0][-num_candidates:]\n",
    "            if label not in predicted:\n",
    "                FP += 1\n",
    "                break\n",
    "with torch.no_grad():\n",
    "    for line in tqdm(test_abnormal_loader,\"abnormal\"):\n",
    "        for i in range(len(line) - window_size):\n",
    "            seq = line[i:i + window_size]\n",
    "            label = line[i + window_size]\n",
    "            seq = torch.tensor(seq, dtype=torch.float).view(-1, window_size, input_size).permute(1,0,2).to(device)\n",
    "            label = torch.tensor(label).view(-1).to(device)\n",
    "            output = model(seq)\n",
    "            predicted = torch.argsort(output, 1)[0][-num_candidates:]\n",
    "            if label not in predicted:\n",
    "                TP += 1\n",
    "                break\n",
    "elapsed_time = time.time() - start_time\n",
    "print('elapsed_time: {:.3f}s'.format(elapsed_time))\n",
    "# Compute precision, recall and F1-measure\n",
    "FN = len(test_abnormal_loader) - TP\n",
    "P = 100 * TP / (TP + FP)\n",
    "R = 100 * TP / (TP + FN)\n",
    "F1 = 2 * P * R / (P + R)\n",
    "print('false positive (FP): {}, false negative (FN): {}, Precision: {:.3f}%, Recall: {:.3f}%, F1-measure: {:.3f}%'.format(FP, FN, P, R, F1))\n",
    "print('Finished Predicting')"
   ]
  },
  {
   "cell_type": "code",
   "execution_count": null,
   "metadata": {},
   "outputs": [],
   "source": [
    "def generate(model):\n",
    "    model.eval()\n",
    "    start = np.random.randint(0,len(num_classes))+1\n",
    "    "
   ]
  },
  {
   "cell_type": "code",
   "execution_count": null,
   "metadata": {},
   "outputs": [],
   "source": []
  }
 ],
 "metadata": {
  "kernelspec": {
   "display_name": "Python 3.6.7 64-bit ('cuda_pytorch': conda)",
   "language": "python",
   "name": "python36764bitcudapytorchconda3e33319a1fef4dc990a9d2f171216946"
  },
  "language_info": {
   "codemirror_mode": {
    "name": "ipython",
    "version": 3
   },
   "file_extension": ".py",
   "mimetype": "text/x-python",
   "name": "python",
   "nbconvert_exporter": "python",
   "pygments_lexer": "ipython3",
   "version": "3.6.7"
  }
 },
 "nbformat": 4,
 "nbformat_minor": 4
}
